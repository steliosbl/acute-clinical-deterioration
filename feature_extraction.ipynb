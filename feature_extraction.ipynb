{
 "cells": [
  {
   "cell_type": "markdown",
   "metadata": {},
   "source": [
    "# Feature Extraction"
   ]
  },
  {
   "cell_type": "code",
   "execution_count": 161,
   "metadata": {},
   "outputs": [],
   "source": [
    "import warnings\n",
    "\n",
    "warnings.simplefilter(action=\"ignore\", category=FutureWarning)\n",
    "\n",
    "import numpy as np\n",
    "import pandas as pd\n",
    "\n",
    "pd.set_option(\"display.max_columns\", None)\n"
   ]
  },
  {
   "cell_type": "code",
   "execution_count": 162,
   "metadata": {},
   "outputs": [],
   "source": [
    "sci = pd.read_hdf(\"data/sci.h5\", \"table\")\n",
    "icd10 = pd.read_hdf(\"data/icd10.h5\", \"ICD10_3_Codes\")\n",
    "birk = pd.read_hdf(\"data/birkmeyer_icd10.h5\", \"table\")\n"
   ]
  },
  {
   "cell_type": "markdown",
   "metadata": {},
   "source": [
    "### COVID-19\n",
    "\n",
    "COVID-19 is coded as:\n",
    " - `U07.1`: COVID-19, virus identified\n",
    " - `J12.8`: Other viral pneumonia\n",
    " - `B97.2`: Coronavirus as the cause of diseases classified to other chapters\n",
    "\n",
    "[(Source)](https://hscic.kahootz.com/t_c_home/view?objectID=28993424)"
   ]
  },
  {
   "cell_type": "code",
   "execution_count": 163,
   "metadata": {},
   "outputs": [],
   "source": [
    "def derive_covid(df):\n",
    "    year_mask = df.AdmissionDateTime >= \"2020-01-01\"\n",
    "    covid_mask = (\n",
    "        df[\n",
    "            [\n",
    "                \"MainICD10\",\n",
    "                \"SecDiag1\",\n",
    "                \"SecDiag2\",\n",
    "                \"SecDiag3\",\n",
    "                \"SecDiag4\",\n",
    "                \"SecDiag5\",\n",
    "                \"SecDiag6\",\n",
    "            ]\n",
    "        ]\n",
    "        .isin([\"U07.1\", \"J12.8\", \"B97.2\"])\n",
    "        .any(axis=1)\n",
    "    )\n",
    "\n",
    "    r = df.copy()\n",
    "    r[\"Covid\"] = year_mask & covid_mask\n",
    "    return r\n",
    "\n"
   ]
  },
  {
   "cell_type": "code",
   "execution_count": 175,
   "metadata": {},
   "outputs": [],
   "source": [
    "def derive_readmission(df):\n",
    "    bins = [\n",
    "        pd.Timedelta(days=0),\n",
    "        pd.Timedelta(days=1),\n",
    "        pd.Timedelta(days=2),\n",
    "        pd.Timedelta(days=7),\n",
    "        pd.Timedelta(days=14),\n",
    "        pd.Timedelta(days=30),\n",
    "        pd.Timedelta(days=60),\n",
    "    ]\n",
    "    labels = [\"24 Hrs\", \"48 Hrs\", \"1 Week\", \"2 Weeks\", \"1 Month\", \"2 Months\"]\n",
    "\n",
    "    r = df.copy()\n",
    "    r[\"Readmission\"] = (\n",
    "        r.sort_values([\"PatientNumber\", \"AdmissionDateTime\"])\n",
    "        .groupby(\"PatientNumber\")\n",
    "        .AdmissionDateTime.diff()\n",
    "        .dropna()\n",
    "    )\n",
    "    r[\"ReadmissionBand\"] = pd.cut(r.Readmission, bins, labels=labels).astype(str).replace('nan', np.nan)\n",
    "    return r\n",
    "\n"
   ]
  },
  {
   "cell_type": "code",
   "execution_count": 165,
   "metadata": {},
   "outputs": [],
   "source": [
    "def derive_icd10_3_code(df):\n",
    "    r = df.copy()\n",
    "    r[\"MainICD10_3_Code\"] = df.MainICD10.str[:3]\n",
    "    return r\n",
    "\n",
    "derive_icd10_3_code(sci).MainICD10_3_Code.value_counts()"
   ]
  },
  {
   "cell_type": "code",
   "execution_count": 166,
   "metadata": {},
   "outputs": [],
   "source": [
    "def derive_birk_grouping(df, birk):\n",
    "    return df.join(\n",
    "        birk.drop_duplicates(\"ICD10Code_Closest\")\n",
    "        .set_index(\"ICD10Code_Closest\")\n",
    "        .MedicalCondition.rename(\"Birk_Grouping\"),\n",
    "        on=\"MainICD10\",\n",
    "    )\n",
    "\n",
    "derive_birk_grouping(sci, birk).Birk_Grouping.value_counts()"
   ]
  },
  {
   "cell_type": "code",
   "execution_count": 167,
   "metadata": {},
   "outputs": [
    {
     "data": {
      "text/plain": [
       "DidNotDie           159537\n",
       "DiedDuringStay        6507\n",
       "DiedWithin30Days      4789\n",
       "Name: Mortality, dtype: int64"
      ]
     },
     "execution_count": 167,
     "metadata": {},
     "output_type": "execute_result"
    }
   ],
   "source": [
    "def derive_mortality(df):\n",
    "    r = df.copy()\n",
    "    m = df[[\"DiedDuringStay\", \"DiedWithin30Days\"]].copy()\n",
    "    m[\"DidNotDie\"] = ~m.any(axis=1)\n",
    "    r[\"Mortality\"] = m.dot(m.columns)\n",
    "    return r\n",
    "\n",
    "\n",
    "derive_mortality(sci).Mortality.value_counts()\n"
   ]
  },
  {
   "cell_type": "code",
   "execution_count": 168,
   "metadata": {},
   "outputs": [
    {
     "data": {
      "text/plain": [
       "False    169680\n",
       "True       1153\n",
       "Name: Critical_Care, dtype: int64"
      ]
     },
     "execution_count": 168,
     "metadata": {},
     "output_type": "execute_result"
    }
   ],
   "source": [
    "def derive_critical(df):\n",
    "    wards = [\n",
    "        \"AdmitWard\",\n",
    "        \"NextWard2\",\n",
    "        \"NextWard3\",\n",
    "        \"NextWard4\",\n",
    "        \"NextWard5\",\n",
    "        \"NextWard6\",\n",
    "        \"NextWard7\",\n",
    "        \"NextWard8\",\n",
    "        \"NextWard9\",\n",
    "    ]\n",
    "    r = df.copy()\n",
    "    r[\"Critical_Care\"] = (r[wards] == \"CCU\").any(axis=1)\n",
    "    return r\n",
    "\n",
    "\n",
    "derive_critical(sci).Critical_Care.value_counts()\n"
   ]
  },
  {
   "cell_type": "code",
   "execution_count": 197,
   "metadata": {},
   "outputs": [],
   "source": [
    "all_wards = sci[[\n",
    "        \"AdmitWard\",\n",
    "        \"NextWard2\",\n",
    "        \"NextWard3\",\n",
    "        \"NextWard4\",\n",
    "        \"NextWard5\",\n",
    "        \"NextWard6\",\n",
    "        \"NextWard7\",\n",
    "        \"NextWard8\",\n",
    "        \"NextWard9\",\n",
    "    ]].apply(pd.Series.value_counts, axis=0)"
   ]
  },
  {
   "cell_type": "code",
   "execution_count": 224,
   "metadata": {},
   "outputs": [
    {
     "data": {
      "text/plain": [
       "['SAL', 'SAL1', 'SBU', 'SRU', 'STU']"
      ]
     },
     "execution_count": 224,
     "metadata": {},
     "output_type": "execute_result"
    }
   ],
   "source": [
    "[_ for _ in all_wards.index if _.startswith('S')]"
   ]
  },
  {
   "cell_type": "code",
   "execution_count": 221,
   "metadata": {},
   "outputs": [
    {
     "data": {
      "text/plain": [
       "10369"
      ]
     },
     "execution_count": 221,
     "metadata": {},
     "output_type": "execute_result"
    }
   ],
   "source": [
    "scii[[\n",
    "        \"AdmitWard\",\n",
    "        \"NextWard2\",\n",
    "        \"NextWard3\",\n",
    "        \"NextWard4\",\n",
    "        \"NextWard5\",\n",
    "        \"NextWard6\",\n",
    "        \"NextWard7\",\n",
    "        \"NextWard8\",\n",
    "        \"NextWard9\",\n",
    "    ]].isin(['HH1M', 'HH1R', 'HH2', 'HH3', 'HH4', 'HH5', 'HH6', 'HH6M', 'HH7', 'HH8', ]).any(axis=1).sum()"
   ]
  },
  {
   "cell_type": "code",
   "execution_count": 178,
   "metadata": {},
   "outputs": [],
   "source": [
    "def derive_all(df):\n",
    "    df = derive_icd10_3_code(df)\n",
    "    df = derive_birk_grouping(df, birk)\n",
    "    df = derive_covid(df)\n",
    "    df = derive_critical(df)\n",
    "    df = derive_mortality(df)\n",
    "    df = derive_readmission(df)\n",
    "    return df\n",
    "\n",
    "\n",
    "scii = derive_all(sci)\n"
   ]
  },
  {
   "cell_type": "code",
   "execution_count": 181,
   "metadata": {},
   "outputs": [
    {
     "data": {
      "text/plain": [
       "0         T43\n",
       "1         M25\n",
       "2         R07\n",
       "3         T44\n",
       "4         T43\n",
       "         ... \n",
       "170828    R07\n",
       "170829    G40\n",
       "170830    J18\n",
       "170831    M54\n",
       "170832    R10\n",
       "Name: MainICD10_3_Code, Length: 170833, dtype: object"
      ]
     },
     "execution_count": 181,
     "metadata": {},
     "output_type": "execute_result"
    }
   ],
   "source": [
    "scii.MainICD10_3_Code"
   ]
  },
  {
   "cell_type": "code",
   "execution_count": 179,
   "metadata": {},
   "outputs": [
    {
     "name": "stderr",
     "output_type": "stream",
     "text": [
      "C:\\Users\\stybl\\AppData\\Local\\Temp\\ipykernel_8560\\3063999542.py:1: PerformanceWarning: \n",
      "your performance may suffer as PyTables will pickle object types that it cannot\n",
      "map directly to c-types [inferred_type->mixed-integer,key->block4_values] [items->Index(['SpellSerial', 'PatientType', 'IntendedManagement',\n",
      "       'AdmissionMethodDescription', 'AdmissionSpecialty', 'LastSpecialty',\n",
      "       'AdmitWard', 'NextWard2', 'NextWard3', 'NextWard4', 'NextWard5',\n",
      "       'NextWard6', 'NextWard7', 'NextWard8', 'NextWard9', 'DischargeWard',\n",
      "       'LOSBand', 'Gender', 'AgeBand', 'AESerial', 'AandEPresentingComplaint',\n",
      "       'AandEMainDiagnosis', 'AandELocation', 'AandEPatientGroupDescription',\n",
      "       'MainICD10', 'MainDiagnosis', 'SecDiag1', 'SecDiag2', 'SecDiag3',\n",
      "       'SecDiag4', 'SecDiag5', 'SecDiag6', 'MainOPCS4', 'MainProcedure',\n",
      "       'SecOper1', 'SecOper2', 'SecOper3', 'SecOper4', 'SecOper5', 'SecOper6',\n",
      "       'PrimarySpecialtyLocalCode', 'SpellHRG', 'HRGDesc',\n",
      "       'DischargeDestinationDescription', 'AllCFS', 'PatientNoSeq', 'AllCFS.1',\n",
      "       'AllDatesofCFSReadings', 'NoofminsbetweenAllCFS&Admission',\n",
      "       'CFSReadingsBefore(B)After(A)Addmission', 'WordingBeforeAdmission',\n",
      "       'WordingAfterAdmission', 'c_O2_device_or_air', 'c_Patient_Position',\n",
      "       'c_Level_of_consciousness', 'c_Pain', 'c_Nausea',\n",
      "       'c_Vomiting_since_last_round', 'MainICD10_3_Code', 'Birk_Grouping',\n",
      "       'Mortality', 'ReadmissionBand'],\n",
      "      dtype='object')]\n",
      "\n",
      "  scii.to_hdf('data/sci_2.h5', 'table')\n"
     ]
    }
   ],
   "source": [
    "scii.to_hdf('data/sci_2.h5', 'table')"
   ]
  }
 ],
 "metadata": {
  "interpreter": {
   "hash": "d896e98219d6c400b17a6debaace9b2de5366b262473e7935d5d995e4c238fe9"
  },
  "kernelspec": {
   "display_name": "Python 3.9.12 ('py39')",
   "language": "python",
   "name": "python3"
  },
  "language_info": {
   "codemirror_mode": {
    "name": "ipython",
    "version": 3
   },
   "file_extension": ".py",
   "mimetype": "text/x-python",
   "name": "python",
   "nbconvert_exporter": "python",
   "pygments_lexer": "ipython3",
   "version": "3.9.12"
  },
  "orig_nbformat": 4
 },
 "nbformat": 4,
 "nbformat_minor": 2
}
