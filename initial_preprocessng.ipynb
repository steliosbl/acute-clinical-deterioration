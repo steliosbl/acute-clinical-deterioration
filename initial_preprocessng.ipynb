{
 "cells": [
  {
   "cell_type": "markdown",
   "metadata": {},
   "source": [
    "# Initial Preprocessing"
   ]
  },
  {
   "cell_type": "code",
   "execution_count": 15,
   "metadata": {},
   "outputs": [],
   "source": [
    "import numpy as np\n",
    "import pandas as pd\n",
    "from pathlib import Path\n",
    "from multiprocessing import Pool\n",
    "import logging\n",
    "from collections import defaultdict\n",
    "\n",
    "logging.basicConfig(\n",
    "    level=logging.INFO,\n",
    "    format=\"%(asctime)s [%(levelname)s] %(message)s\"\n",
    ")"
   ]
  },
  {
   "cell_type": "code",
   "execution_count": 230,
   "metadata": {},
   "outputs": [],
   "source": [
    "class Notebook:\n",
    "    DATA_DIR = Path('data')\n",
    "    RAW_DIR = Path('data/AEdata')\n",
    "\n",
    "    RUN_ALL = True"
   ]
  },
  {
   "cell_type": "markdown",
   "metadata": {},
   "source": [
    "## Profiling Functions"
   ]
  },
  {
   "cell_type": "code",
   "execution_count": 229,
   "metadata": {},
   "outputs": [],
   "source": [
    "def columns_per_dtype(df):\n",
    "    col_counts = {col:df[col].value_counts() for col in df.columns}\n",
    "    new_dict = defaultdict(list)\n",
    "    for k, v in df.dtypes.iteritems():\n",
    "        new_dict[v].append(k)\n",
    "    for k in new_dict.keys():\n",
    "        print(f'{k}: {new_dict[k]}')\n",
    "\n",
    "def col_counts_topn(df, n=10):\n",
    "    col_counts = {col:df[col].value_counts() for col in df.columns}\n",
    "    new_dict = defaultdict(list)\n",
    "    for k, v in col_counts.items():\n",
    "        new_dict[v.size].append(k)\n",
    "    for k in sorted(new_dict.keys())[:n]:\n",
    "        print(f'{k}: {new_dict[k]}')"
   ]
  },
  {
   "cell_type": "markdown",
   "metadata": {},
   "source": [
    "## Event Dates File"
   ]
  },
  {
   "cell_type": "code",
   "execution_count": 17,
   "metadata": {},
   "outputs": [],
   "source": [
    "def hdf5_correct_strings(df: pd.DataFrame):\n",
    "    string_cols = df.select_dtypes(include='object').columns\n",
    "    df[string_cols] = df[string_cols].applymap(str)\n",
    "    return df"
   ]
  },
  {
   "cell_type": "code",
   "execution_count": 18,
   "metadata": {},
   "outputs": [],
   "source": [
    "def convert_eddates(df: pd.DataFrame):\n",
    "    # Manual Correction: The first ArrivalDtm column has values in\n",
    "    # excel-style integer format (see https://stackoverflow.com/a/65460255/7662085)\n",
    "    if df.ArrivalDtm.dtype != np.dtype('datetime64[ns]'):\n",
    "        df['ArrivalDtm'] = pd.to_datetime(df.ArrivalDtm, unit='D', origin='1899-12-30')\n",
    "\n",
    "    # Iterate columns pairwise, and stack them vertically into a single DF\n",
    "    return pd.DataFrame(\n",
    "        np.concatenate(\n",
    "            [\n",
    "                df[list(_)].dropna().values \n",
    "                for _ in zip(df.columns[::3], df.columns[1::3])]\n",
    "        ), columns=['AESerial', 'ArrivalDtm']\n",
    "    )\n",
    "\n",
    "def convert_mainfiledates(df: pd.DataFrame):\n",
    "    return hdf5_correct_strings(df)\n",
    "\n",
    "def convert_event_dates(infile = 'Each event dateDONE.xlsx', outfile = 'event_dates.h5'):\n",
    "    result = {}\n",
    "\n",
    "    xlsx = pd.ExcelFile(Notebook.RAW_DIR / infile)\n",
    "    convert_sheets = {\n",
    "        'EDDATES': convert_eddates,\n",
    "        'MainFileDates': convert_mainfiledates\n",
    "    }\n",
    "\n",
    "    for sheet, converter in convert_sheets.items():\n",
    "        result[sheet] = converter(\n",
    "            pd.read_excel(xlsx, sheet, index_col=None)\n",
    "        )\n",
    "\n",
    "    with pd.HDFStore(Notebook.DATA_DIR / outfile) as store:\n",
    "        for name, df in result.items():\n",
    "            store[name] = df\n",
    "\n",
    "    return result.values()\n",
    "\n",
    "if Notebook.RUN_ALL:\n",
    "    convert_event_dates()"
   ]
  },
  {
   "cell_type": "markdown",
   "metadata": {},
   "source": [
    "## SCI File"
   ]
  },
  {
   "cell_type": "code",
   "execution_count": 233,
   "metadata": {},
   "outputs": [],
   "source": [
    "def process_SCI(xlsx):\n",
    "    df = xlsx.copy()\n",
    "\n",
    "    # Drop redundant columns\n",
    "    redundant = ['Admission FY Month', 'Year Admit', 'Month Admit', 'Admit Hour', 'Admit Week', 'Year Disch', 'Month Disch', 'Disch Hour', 'Disch Week', 'Admission Fy Year', 'Admit Day', 'Discharge Fy Year', 'Disch Day'] + \\\n",
    "    ['Admission Consultant', 'Last Consultant', 'Area', 'GP Practice', 'PCT'] + \\\n",
    "    ['Admissions Date', 'Admission Date', 'aLT Client GUID', 'Client GUID']\n",
    "    df = df.drop(redundant, axis=1)\n",
    "\n",
    "    col_counts = {col:df[col].value_counts() for col in df.columns}\n",
    "\n",
    "    # Drop c_ prefixed columns with no values in them\n",
    "    df = df.drop([col for col, count in col_counts.items() if count.size <= 2 and col.startswith('c_')], axis=1)\n",
    "\n",
    "    # Replace NoNSw2d with np.NAN in all applicable columns\n",
    "    df = df.replace({'NoNSw2d': np.NAN, 'NoObW2D': np.NAN, 'Noobw2d': np.NAN})\n",
    "\n",
    "    # Turn these 2-value string columns into binary\n",
    "    binarise = {\n",
    "        \"Admission Type\": \"Elective\",\n",
    "        \"Admission Area\": \"Medical Assessment Area\",\n",
    "        \"Discharge Area\": \"Assessment Area Discharge\",\n",
    "        \"c_Nausea\": '1 - Nausea present',\n",
    "        'c_Vomiting': '1 - Vomiting since last round',\n",
    "        **{\n",
    "            _: \"Yes\"\n",
    "            for _ in [\n",
    "                \"Over 7 Days\",\n",
    "                \"Over 14 Days\",\n",
    "                \"Care Home\",\n",
    "                \"Died During Stay\",\n",
    "                \"Died Within 30 Days\",\n",
    "            ]\n",
    "        },\n",
    "    }\n",
    "\n",
    "    for col, true in binarise.items():\n",
    "        df[col] = df[col].apply(true.__eq__)\n",
    "\n",
    "    # Rename some of the binarised columns for better clarity\n",
    "    df = df.rename(\n",
    "        columns={\n",
    "            \"Admission Type\": \"ElectiveAdmission\",\n",
    "            \"Admission Area\": \"AssessmentAreaAdmission\",\n",
    "            \"Discharge Area\": \"AssessmentAreaDischarge\",\n",
    "            \"c_Vomiting\": \"c_Vomiting_since_last_round\"\n",
    "        }\n",
    "    )\n",
    "\n",
    "    # Convert NEWS dates\n",
    "    datetimes = ['News CreatedWhen', 'News TouchedWhen', 'News AuthoredDtm']\n",
    "    df[datetimes] = df[datetimes].apply(pd.to_datetime, errors='coerce')\n",
    "\n",
    "    # Convert blood results\n",
    "    # Ignore certain non-numeric entries as they make up less than 0.001%\n",
    "    numeric = ['Urea (serum)', 'Sodium (serum)', 'Potassium (serum)', 'Creatinine', 'pO2 (POC) Venous']\n",
    "    df[numeric] = df[numeric].apply(pd.to_numeric, errors='coerce')\n",
    "\n",
    "    # Remove spaces from column names\n",
    "    df.columns = df.columns.str.replace(' ', '')\n",
    "\n",
    "    return hdf5_correct_strings(df)"
   ]
  },
  {
   "cell_type": "code",
   "execution_count": 234,
   "metadata": {},
   "outputs": [
    {
     "name": "stderr",
     "output_type": "stream",
     "text": [
      "2022-07-13 15:39:43,064 [INFO] Reading file: data\\AEdata\\Copy of SCI11868 Delivered 7 Ian Browne.xlsx\n",
      "2022-07-13 15:44:50,816 [INFO] Processing file: data\\AEdata\\Copy of SCI11868 Delivered 7 Ian Browne.xlsx\n",
      "2022-07-13 15:45:03,360 [INFO] Writing to: data\\sci.h5/table\n"
     ]
    },
    {
     "ename": "OSError",
     "evalue": "``C:\\Users\\stybl\\src\\acute-care-pathways\\data\\data`` does not exist",
     "output_type": "error",
     "traceback": [
      "\u001b[1;31m---------------------------------------------------------------------------\u001b[0m",
      "\u001b[1;31mOSError\u001b[0m                                   Traceback (most recent call last)",
      "\u001b[1;32mc:\\Users\\stybl\\src\\acute-care-pathways\\io.ipynb Cell 7'\u001b[0m in \u001b[0;36m<cell line: 1>\u001b[1;34m()\u001b[0m\n\u001b[0;32m      <a href='vscode-notebook-cell://ssh-remote%2B7b22686f73744e616d65223a224445534b544f502d4e4f4f49303553227d/c%3A/Users/stybl/src/acute-care-pathways/io.ipynb#ch0000070vscode-remote?line=8'>9</a>\u001b[0m df \u001b[39m=\u001b[39m process_SCI(xlsx)\n\u001b[0;32m     <a href='vscode-notebook-cell://ssh-remote%2B7b22686f73744e616d65223a224445534b544f502d4e4f4f49303553227d/c%3A/Users/stybl/src/acute-care-pathways/io.ipynb#ch0000070vscode-remote?line=10'>11</a>\u001b[0m logging\u001b[39m.\u001b[39minfo(\u001b[39mf\u001b[39m\u001b[39m'\u001b[39m\u001b[39mWriting to: \u001b[39m\u001b[39m{\u001b[39;00moutfile\u001b[39m}\u001b[39;00m\u001b[39m/table\u001b[39m\u001b[39m'\u001b[39m)\n\u001b[1;32m---> <a href='vscode-notebook-cell://ssh-remote%2B7b22686f73744e616d65223a224445534b544f502d4e4f4f49303553227d/c%3A/Users/stybl/src/acute-care-pathways/io.ipynb#ch0000070vscode-remote?line=11'>12</a>\u001b[0m df\u001b[39m.\u001b[39;49mto_hdf(Notebook\u001b[39m.\u001b[39;49mDATA_DIR \u001b[39m/\u001b[39;49m outfile, key\u001b[39m=\u001b[39;49m\u001b[39m'\u001b[39;49m\u001b[39mtable\u001b[39;49m\u001b[39m'\u001b[39;49m)\n\u001b[0;32m     <a href='vscode-notebook-cell://ssh-remote%2B7b22686f73744e616d65223a224445534b544f502d4e4f4f49303553227d/c%3A/Users/stybl/src/acute-care-pathways/io.ipynb#ch0000070vscode-remote?line=13'>14</a>\u001b[0m columns_per_dtype(df)\n",
      "File \u001b[1;32m~\\miniconda3\\envs\\py39\\lib\\site-packages\\pandas\\core\\generic.py:2763\u001b[0m, in \u001b[0;36mNDFrame.to_hdf\u001b[1;34m(self, path_or_buf, key, mode, complevel, complib, append, format, index, min_itemsize, nan_rep, dropna, data_columns, errors, encoding)\u001b[0m\n\u001b[0;32m   <a href='file:///c%3A/Users/stybl/miniconda3/envs/py39/lib/site-packages/pandas/core/generic.py?line=2758'>2759</a>\u001b[0m \u001b[39mfrom\u001b[39;00m \u001b[39mpandas\u001b[39;00m\u001b[39m.\u001b[39;00m\u001b[39mio\u001b[39;00m \u001b[39mimport\u001b[39;00m pytables\n\u001b[0;32m   <a href='file:///c%3A/Users/stybl/miniconda3/envs/py39/lib/site-packages/pandas/core/generic.py?line=2760'>2761</a>\u001b[0m \u001b[39m# Argument 3 to \"to_hdf\" has incompatible type \"NDFrame\"; expected\u001b[39;00m\n\u001b[0;32m   <a href='file:///c%3A/Users/stybl/miniconda3/envs/py39/lib/site-packages/pandas/core/generic.py?line=2761'>2762</a>\u001b[0m \u001b[39m# \"Union[DataFrame, Series]\" [arg-type]\u001b[39;00m\n\u001b[1;32m-> <a href='file:///c%3A/Users/stybl/miniconda3/envs/py39/lib/site-packages/pandas/core/generic.py?line=2762'>2763</a>\u001b[0m pytables\u001b[39m.\u001b[39;49mto_hdf(\n\u001b[0;32m   <a href='file:///c%3A/Users/stybl/miniconda3/envs/py39/lib/site-packages/pandas/core/generic.py?line=2763'>2764</a>\u001b[0m     path_or_buf,\n\u001b[0;32m   <a href='file:///c%3A/Users/stybl/miniconda3/envs/py39/lib/site-packages/pandas/core/generic.py?line=2764'>2765</a>\u001b[0m     key,\n\u001b[0;32m   <a href='file:///c%3A/Users/stybl/miniconda3/envs/py39/lib/site-packages/pandas/core/generic.py?line=2765'>2766</a>\u001b[0m     \u001b[39mself\u001b[39;49m,  \u001b[39m# type: ignore[arg-type]\u001b[39;49;00m\n\u001b[0;32m   <a href='file:///c%3A/Users/stybl/miniconda3/envs/py39/lib/site-packages/pandas/core/generic.py?line=2766'>2767</a>\u001b[0m     mode\u001b[39m=\u001b[39;49mmode,\n\u001b[0;32m   <a href='file:///c%3A/Users/stybl/miniconda3/envs/py39/lib/site-packages/pandas/core/generic.py?line=2767'>2768</a>\u001b[0m     complevel\u001b[39m=\u001b[39;49mcomplevel,\n\u001b[0;32m   <a href='file:///c%3A/Users/stybl/miniconda3/envs/py39/lib/site-packages/pandas/core/generic.py?line=2768'>2769</a>\u001b[0m     complib\u001b[39m=\u001b[39;49mcomplib,\n\u001b[0;32m   <a href='file:///c%3A/Users/stybl/miniconda3/envs/py39/lib/site-packages/pandas/core/generic.py?line=2769'>2770</a>\u001b[0m     append\u001b[39m=\u001b[39;49mappend,\n\u001b[0;32m   <a href='file:///c%3A/Users/stybl/miniconda3/envs/py39/lib/site-packages/pandas/core/generic.py?line=2770'>2771</a>\u001b[0m     \u001b[39mformat\u001b[39;49m\u001b[39m=\u001b[39;49m\u001b[39mformat\u001b[39;49m,\n\u001b[0;32m   <a href='file:///c%3A/Users/stybl/miniconda3/envs/py39/lib/site-packages/pandas/core/generic.py?line=2771'>2772</a>\u001b[0m     index\u001b[39m=\u001b[39;49mindex,\n\u001b[0;32m   <a href='file:///c%3A/Users/stybl/miniconda3/envs/py39/lib/site-packages/pandas/core/generic.py?line=2772'>2773</a>\u001b[0m     min_itemsize\u001b[39m=\u001b[39;49mmin_itemsize,\n\u001b[0;32m   <a href='file:///c%3A/Users/stybl/miniconda3/envs/py39/lib/site-packages/pandas/core/generic.py?line=2773'>2774</a>\u001b[0m     nan_rep\u001b[39m=\u001b[39;49mnan_rep,\n\u001b[0;32m   <a href='file:///c%3A/Users/stybl/miniconda3/envs/py39/lib/site-packages/pandas/core/generic.py?line=2774'>2775</a>\u001b[0m     dropna\u001b[39m=\u001b[39;49mdropna,\n\u001b[0;32m   <a href='file:///c%3A/Users/stybl/miniconda3/envs/py39/lib/site-packages/pandas/core/generic.py?line=2775'>2776</a>\u001b[0m     data_columns\u001b[39m=\u001b[39;49mdata_columns,\n\u001b[0;32m   <a href='file:///c%3A/Users/stybl/miniconda3/envs/py39/lib/site-packages/pandas/core/generic.py?line=2776'>2777</a>\u001b[0m     errors\u001b[39m=\u001b[39;49merrors,\n\u001b[0;32m   <a href='file:///c%3A/Users/stybl/miniconda3/envs/py39/lib/site-packages/pandas/core/generic.py?line=2777'>2778</a>\u001b[0m     encoding\u001b[39m=\u001b[39;49mencoding,\n\u001b[0;32m   <a href='file:///c%3A/Users/stybl/miniconda3/envs/py39/lib/site-packages/pandas/core/generic.py?line=2778'>2779</a>\u001b[0m )\n",
      "File \u001b[1;32m~\\miniconda3\\envs\\py39\\lib\\site-packages\\pandas\\io\\pytables.py:311\u001b[0m, in \u001b[0;36mto_hdf\u001b[1;34m(path_or_buf, key, value, mode, complevel, complib, append, format, index, min_itemsize, nan_rep, dropna, data_columns, errors, encoding)\u001b[0m\n\u001b[0;32m    <a href='file:///c%3A/Users/stybl/miniconda3/envs/py39/lib/site-packages/pandas/io/pytables.py?line=308'>309</a>\u001b[0m path_or_buf \u001b[39m=\u001b[39m stringify_path(path_or_buf)\n\u001b[0;32m    <a href='file:///c%3A/Users/stybl/miniconda3/envs/py39/lib/site-packages/pandas/io/pytables.py?line=309'>310</a>\u001b[0m \u001b[39mif\u001b[39;00m \u001b[39misinstance\u001b[39m(path_or_buf, \u001b[39mstr\u001b[39m):\n\u001b[1;32m--> <a href='file:///c%3A/Users/stybl/miniconda3/envs/py39/lib/site-packages/pandas/io/pytables.py?line=310'>311</a>\u001b[0m     \u001b[39mwith\u001b[39;00m HDFStore(\n\u001b[0;32m    <a href='file:///c%3A/Users/stybl/miniconda3/envs/py39/lib/site-packages/pandas/io/pytables.py?line=311'>312</a>\u001b[0m         path_or_buf, mode\u001b[39m=\u001b[39;49mmode, complevel\u001b[39m=\u001b[39;49mcomplevel, complib\u001b[39m=\u001b[39;49mcomplib\n\u001b[0;32m    <a href='file:///c%3A/Users/stybl/miniconda3/envs/py39/lib/site-packages/pandas/io/pytables.py?line=312'>313</a>\u001b[0m     ) \u001b[39mas\u001b[39;00m store:\n\u001b[0;32m    <a href='file:///c%3A/Users/stybl/miniconda3/envs/py39/lib/site-packages/pandas/io/pytables.py?line=313'>314</a>\u001b[0m         f(store)\n\u001b[0;32m    <a href='file:///c%3A/Users/stybl/miniconda3/envs/py39/lib/site-packages/pandas/io/pytables.py?line=314'>315</a>\u001b[0m \u001b[39melse\u001b[39;00m:\n",
      "File \u001b[1;32m~\\miniconda3\\envs\\py39\\lib\\site-packages\\pandas\\io\\pytables.py:591\u001b[0m, in \u001b[0;36mHDFStore.__init__\u001b[1;34m(self, path, mode, complevel, complib, fletcher32, **kwargs)\u001b[0m\n\u001b[0;32m    <a href='file:///c%3A/Users/stybl/miniconda3/envs/py39/lib/site-packages/pandas/io/pytables.py?line=588'>589</a>\u001b[0m \u001b[39mself\u001b[39m\u001b[39m.\u001b[39m_fletcher32 \u001b[39m=\u001b[39m fletcher32\n\u001b[0;32m    <a href='file:///c%3A/Users/stybl/miniconda3/envs/py39/lib/site-packages/pandas/io/pytables.py?line=589'>590</a>\u001b[0m \u001b[39mself\u001b[39m\u001b[39m.\u001b[39m_filters \u001b[39m=\u001b[39m \u001b[39mNone\u001b[39;00m\n\u001b[1;32m--> <a href='file:///c%3A/Users/stybl/miniconda3/envs/py39/lib/site-packages/pandas/io/pytables.py?line=590'>591</a>\u001b[0m \u001b[39mself\u001b[39m\u001b[39m.\u001b[39mopen(mode\u001b[39m=\u001b[39mmode, \u001b[39m*\u001b[39m\u001b[39m*\u001b[39mkwargs)\n",
      "File \u001b[1;32m~\\miniconda3\\envs\\py39\\lib\\site-packages\\pandas\\io\\pytables.py:740\u001b[0m, in \u001b[0;36mHDFStore.open\u001b[1;34m(self, mode, **kwargs)\u001b[0m\n\u001b[0;32m    <a href='file:///c%3A/Users/stybl/miniconda3/envs/py39/lib/site-packages/pandas/io/pytables.py?line=733'>734</a>\u001b[0m     msg \u001b[39m=\u001b[39m (\n\u001b[0;32m    <a href='file:///c%3A/Users/stybl/miniconda3/envs/py39/lib/site-packages/pandas/io/pytables.py?line=734'>735</a>\u001b[0m         \u001b[39m\"\u001b[39m\u001b[39mCannot open HDF5 file, which is already opened, \u001b[39m\u001b[39m\"\u001b[39m\n\u001b[0;32m    <a href='file:///c%3A/Users/stybl/miniconda3/envs/py39/lib/site-packages/pandas/io/pytables.py?line=735'>736</a>\u001b[0m         \u001b[39m\"\u001b[39m\u001b[39meven in read-only mode.\u001b[39m\u001b[39m\"\u001b[39m\n\u001b[0;32m    <a href='file:///c%3A/Users/stybl/miniconda3/envs/py39/lib/site-packages/pandas/io/pytables.py?line=736'>737</a>\u001b[0m     )\n\u001b[0;32m    <a href='file:///c%3A/Users/stybl/miniconda3/envs/py39/lib/site-packages/pandas/io/pytables.py?line=737'>738</a>\u001b[0m     \u001b[39mraise\u001b[39;00m \u001b[39mValueError\u001b[39;00m(msg)\n\u001b[1;32m--> <a href='file:///c%3A/Users/stybl/miniconda3/envs/py39/lib/site-packages/pandas/io/pytables.py?line=739'>740</a>\u001b[0m \u001b[39mself\u001b[39m\u001b[39m.\u001b[39m_handle \u001b[39m=\u001b[39m tables\u001b[39m.\u001b[39mopen_file(\u001b[39mself\u001b[39m\u001b[39m.\u001b[39m_path, \u001b[39mself\u001b[39m\u001b[39m.\u001b[39m_mode, \u001b[39m*\u001b[39m\u001b[39m*\u001b[39mkwargs)\n",
      "File \u001b[1;32m~\\miniconda3\\envs\\py39\\lib\\site-packages\\tables\\file.py:300\u001b[0m, in \u001b[0;36mopen_file\u001b[1;34m(filename, mode, title, root_uep, filters, **kwargs)\u001b[0m\n\u001b[0;32m    <a href='file:///c%3A/Users/stybl/miniconda3/envs/py39/lib/site-packages/tables/file.py?line=294'>295</a>\u001b[0m             \u001b[39mraise\u001b[39;00m \u001b[39mValueError\u001b[39;00m(\n\u001b[0;32m    <a href='file:///c%3A/Users/stybl/miniconda3/envs/py39/lib/site-packages/tables/file.py?line=295'>296</a>\u001b[0m                 \u001b[39m\"\u001b[39m\u001b[39mThe file \u001b[39m\u001b[39m'\u001b[39m\u001b[39m%s\u001b[39;00m\u001b[39m'\u001b[39m\u001b[39m is already opened.  Please \u001b[39m\u001b[39m\"\u001b[39m\n\u001b[0;32m    <a href='file:///c%3A/Users/stybl/miniconda3/envs/py39/lib/site-packages/tables/file.py?line=296'>297</a>\u001b[0m                 \u001b[39m\"\u001b[39m\u001b[39mclose it before reopening in write mode.\u001b[39m\u001b[39m\"\u001b[39m \u001b[39m%\u001b[39m filename)\n\u001b[0;32m    <a href='file:///c%3A/Users/stybl/miniconda3/envs/py39/lib/site-packages/tables/file.py?line=298'>299</a>\u001b[0m \u001b[39m# Finally, create the File instance, and return it\u001b[39;00m\n\u001b[1;32m--> <a href='file:///c%3A/Users/stybl/miniconda3/envs/py39/lib/site-packages/tables/file.py?line=299'>300</a>\u001b[0m \u001b[39mreturn\u001b[39;00m File(filename, mode, title, root_uep, filters, \u001b[39m*\u001b[39m\u001b[39m*\u001b[39mkwargs)\n",
      "File \u001b[1;32m~\\miniconda3\\envs\\py39\\lib\\site-packages\\tables\\file.py:750\u001b[0m, in \u001b[0;36mFile.__init__\u001b[1;34m(self, filename, mode, title, root_uep, filters, **kwargs)\u001b[0m\n\u001b[0;32m    <a href='file:///c%3A/Users/stybl/miniconda3/envs/py39/lib/site-packages/tables/file.py?line=746'>747</a>\u001b[0m \u001b[39mself\u001b[39m\u001b[39m.\u001b[39mparams \u001b[39m=\u001b[39m params\n\u001b[0;32m    <a href='file:///c%3A/Users/stybl/miniconda3/envs/py39/lib/site-packages/tables/file.py?line=748'>749</a>\u001b[0m \u001b[39m# Now, it is time to initialize the File extension\u001b[39;00m\n\u001b[1;32m--> <a href='file:///c%3A/Users/stybl/miniconda3/envs/py39/lib/site-packages/tables/file.py?line=749'>750</a>\u001b[0m \u001b[39mself\u001b[39m\u001b[39m.\u001b[39m_g_new(filename, mode, \u001b[39m*\u001b[39m\u001b[39m*\u001b[39mparams)\n\u001b[0;32m    <a href='file:///c%3A/Users/stybl/miniconda3/envs/py39/lib/site-packages/tables/file.py?line=751'>752</a>\u001b[0m \u001b[39m# Check filters and set PyTables format version for new files.\u001b[39;00m\n\u001b[0;32m    <a href='file:///c%3A/Users/stybl/miniconda3/envs/py39/lib/site-packages/tables/file.py?line=752'>753</a>\u001b[0m new \u001b[39m=\u001b[39m \u001b[39mself\u001b[39m\u001b[39m.\u001b[39m_v_new\n",
      "File \u001b[1;32m~\\miniconda3\\envs\\py39\\lib\\site-packages\\tables\\hdf5extension.pyx:368\u001b[0m, in \u001b[0;36mtables.hdf5extension.File._g_new\u001b[1;34m()\u001b[0m\n",
      "File \u001b[1;32m~\\miniconda3\\envs\\py39\\lib\\site-packages\\tables\\utils.py:169\u001b[0m, in \u001b[0;36mcheck_file_access\u001b[1;34m(filename, mode)\u001b[0m\n\u001b[0;32m    <a href='file:///c%3A/Users/stybl/miniconda3/envs/py39/lib/site-packages/tables/utils.py?line=166'>167</a>\u001b[0m         check_file_access(path, \u001b[39m'\u001b[39m\u001b[39mr+\u001b[39m\u001b[39m'\u001b[39m)\n\u001b[0;32m    <a href='file:///c%3A/Users/stybl/miniconda3/envs/py39/lib/site-packages/tables/utils.py?line=167'>168</a>\u001b[0m     \u001b[39melse\u001b[39;00m:\n\u001b[1;32m--> <a href='file:///c%3A/Users/stybl/miniconda3/envs/py39/lib/site-packages/tables/utils.py?line=168'>169</a>\u001b[0m         check_file_access(path, \u001b[39m'\u001b[39;49m\u001b[39mw\u001b[39;49m\u001b[39m'\u001b[39;49m)\n\u001b[0;32m    <a href='file:///c%3A/Users/stybl/miniconda3/envs/py39/lib/site-packages/tables/utils.py?line=169'>170</a>\u001b[0m \u001b[39melif\u001b[39;00m mode \u001b[39m==\u001b[39m \u001b[39m'\u001b[39m\u001b[39mr+\u001b[39m\u001b[39m'\u001b[39m:\n\u001b[0;32m    <a href='file:///c%3A/Users/stybl/miniconda3/envs/py39/lib/site-packages/tables/utils.py?line=170'>171</a>\u001b[0m     check_file_access(path, \u001b[39m'\u001b[39m\u001b[39mr\u001b[39m\u001b[39m'\u001b[39m)\n",
      "File \u001b[1;32m~\\miniconda3\\envs\\py39\\lib\\site-packages\\tables\\utils.py:157\u001b[0m, in \u001b[0;36mcheck_file_access\u001b[1;34m(filename, mode)\u001b[0m\n\u001b[0;32m    <a href='file:///c%3A/Users/stybl/miniconda3/envs/py39/lib/site-packages/tables/utils.py?line=152'>153</a>\u001b[0m \u001b[39melse\u001b[39;00m:\n\u001b[0;32m    <a href='file:///c%3A/Users/stybl/miniconda3/envs/py39/lib/site-packages/tables/utils.py?line=153'>154</a>\u001b[0m     \u001b[39m# A new file is going to be created,\u001b[39;00m\n\u001b[0;32m    <a href='file:///c%3A/Users/stybl/miniconda3/envs/py39/lib/site-packages/tables/utils.py?line=154'>155</a>\u001b[0m     \u001b[39m# so the directory should be writable.\u001b[39;00m\n\u001b[0;32m    <a href='file:///c%3A/Users/stybl/miniconda3/envs/py39/lib/site-packages/tables/utils.py?line=155'>156</a>\u001b[0m     \u001b[39mif\u001b[39;00m \u001b[39mnot\u001b[39;00m os\u001b[39m.\u001b[39maccess(path\u001b[39m.\u001b[39mparent, os\u001b[39m.\u001b[39mF_OK):\n\u001b[1;32m--> <a href='file:///c%3A/Users/stybl/miniconda3/envs/py39/lib/site-packages/tables/utils.py?line=156'>157</a>\u001b[0m         \u001b[39mraise\u001b[39;00m \u001b[39mOSError\u001b[39;00m(\u001b[39mf\u001b[39m\u001b[39m\"\u001b[39m\u001b[39m``\u001b[39m\u001b[39m{\u001b[39;00mpath\u001b[39m.\u001b[39mparent\u001b[39m}\u001b[39;00m\u001b[39m`` does not exist\u001b[39m\u001b[39m\"\u001b[39m)\n\u001b[0;32m    <a href='file:///c%3A/Users/stybl/miniconda3/envs/py39/lib/site-packages/tables/utils.py?line=157'>158</a>\u001b[0m     \u001b[39mif\u001b[39;00m \u001b[39mnot\u001b[39;00m path\u001b[39m.\u001b[39mparent\u001b[39m.\u001b[39mis_dir():\n\u001b[0;32m    <a href='file:///c%3A/Users/stybl/miniconda3/envs/py39/lib/site-packages/tables/utils.py?line=158'>159</a>\u001b[0m         \u001b[39mraise\u001b[39;00m \u001b[39mOSError\u001b[39;00m(\u001b[39mf\u001b[39m\u001b[39m\"\u001b[39m\u001b[39m``\u001b[39m\u001b[39m{\u001b[39;00mpath\u001b[39m.\u001b[39mparent\u001b[39m}\u001b[39;00m\u001b[39m`` is not a directory\u001b[39m\u001b[39m\"\u001b[39m)\n",
      "\u001b[1;31mOSError\u001b[0m: ``C:\\Users\\stybl\\src\\acute-care-pathways\\data\\data`` does not exist"
     ]
    }
   ],
   "source": [
    "if Notebook.RUN_ALL:\n",
    "    infile = Notebook.RAW_DIR / 'Copy of SCI11868 Delivered 7 Ian Browne.xlsx'\n",
    "    outfile = Notebook.DATA_DIR / 'sci.h5'\n",
    "    \n",
    "    logging.info(f'Reading file: {infile}')\n",
    "    xlsx = pd.read_excel(infile)\n",
    "\n",
    "    logging.info(f'Processing file: {infile}')\n",
    "    df = process_SCI(xlsx)\n",
    "\n",
    "    logging.info(f'Writing to: {outfile}/table')\n",
    "    df.to_hdf(outfile, key='table')\n",
    "\n",
    "    columns_per_dtype(df)"
   ]
  },
  {
   "cell_type": "markdown",
   "metadata": {},
   "source": [
    "## Admissions Files"
   ]
  },
  {
   "cell_type": "code",
   "execution_count": 22,
   "metadata": {},
   "outputs": [],
   "source": [
    "def reconstruct_datetime(df, old, new):\n",
    "    df[new] = pd.to_datetime(\n",
    "        df[old]\n",
    "        .dropna(how=\"any\")\n",
    "        .astype(str)\n",
    "        .replace(\"\\.0\", \"\", regex=True)\n",
    "        .apply(\" \".join, 1),\n",
    "        format=\"%Y %m %A %H\",\n",
    "    )\n",
    "\n",
    "def process_AD(xlsx):\n",
    "    df = xlsx.copy()\n",
    "    \n",
    "    # Construct DateTime from the individual columns describing admission/discharge date\n",
    "    adm_dt, disch_dt = (\n",
    "        [\"YearAdmit\", \"MonthAdmit\", \"AdmitDay\", \"AdmitHour\"],\n",
    "        [\"YearDisch\", \"MonthDisch\", \"DischDay\", \"DischHour\"],\n",
    "    )\n",
    "    reconstruct_datetime(df, adm_dt, \"AdmissionDateTime\")\n",
    "    if 'SpellDischargeDate' in df.columns:\n",
    "        df = df.rename(columns={'SpellDischargeDate': 'DischargeDateTime'})\n",
    "    else:\n",
    "        reconstruct_datetime(df, disch_dt, \"DischargeDateTime\")\n",
    "\n",
    "    # Turn these 2-value string columns into binary\n",
    "    binarise = {\n",
    "        \"AdmissionType\": \"Elective\",\n",
    "        \"AdmissionArea\": \"Medical Assessment Area\",\n",
    "        \"DischargeArea\": \"Assessment Area Discharge\",\n",
    "        **{\n",
    "            _: \"Yes\"\n",
    "            for _ in [\n",
    "                \"Over7Days\",\n",
    "                \"Over14Days\",\n",
    "                \"CareHome\",\n",
    "                \"DiedDuringStay\",\n",
    "                \"DiedWithin30Days\",\n",
    "            ]\n",
    "        },\n",
    "    }\n",
    "\n",
    "    for col, true in binarise.items():\n",
    "        df[col] = df[col].apply(true.__eq__)\n",
    "\n",
    "    # Rename some of the binarised columns for better clarity\n",
    "    df = df.rename(\n",
    "        columns={\n",
    "            \"AdmissionType\": \"ElectiveAdmission\",\n",
    "            \"AdmissionArea\": \"AssessmentAreaAdmission\",\n",
    "            \"DischargeArea\": \"AssessmentAreaDischarge\",\n",
    "        }\n",
    "    )\n",
    "\n",
    "    # Drop individual date component columns and some extraneous ones\n",
    "    df = df.drop(\n",
    "        adm_dt\n",
    "        + disch_dt\n",
    "        + [\n",
    "            \"DischWeek\",\n",
    "            \"DischargeFYear\",\n",
    "            \"AdmitWeek\",\n",
    "            \"AdmissionFYear\",\n",
    "            \"AdmissionFYMonth\",\n",
    "            \"AdmissionConsultant\",\n",
    "            \"LastConsultant\",\n",
    "            \"Area\",\n",
    "            \"PCT\",\n",
    "            \"GPPractice\",\n",
    "            \"AdmissionWardEndDate\"\n",
    "        ],\n",
    "        axis=1,\n",
    "        errors='ignore'\n",
    "    )\n",
    "\n",
    "    return df"
   ]
  },
  {
   "cell_type": "code",
   "execution_count": null,
   "metadata": {},
   "outputs": [],
   "source": [
    "if Notebook.RUN_ALL:\n",
    "    outfile = Notebook.DATA_DIR / 'AD.h5'\n",
    "    results = []\n",
    "\n",
    "    for infile in (Notebook.RAW_DIR / indir).iterdir():\n",
    "        logging.info(f'Reading file: {infile}')\n",
    "        xlsx = pd.read_excel(infile)\n",
    "\n",
    "        logging.info(f'Processing file: {infile}')\n",
    "        results.append(process_AD(xlsx))\n",
    "    \n",
    "    logging.info(f'Writing all to {outfile}')\n",
    "    r = hdf5_correct_strings(pd.concat(results))\n",
    "    r.to_hdf(outfile, key='table')"
   ]
  }
 ],
 "metadata": {
  "interpreter": {
   "hash": "5731e6c604298f2045ab2a13cfc59f8afa6fcab4ec4a3faad8b85db05f43f72d"
  },
  "kernelspec": {
   "display_name": "Python 3.8.11 ('py38')",
   "language": "python",
   "name": "python3"
  },
  "language_info": {
   "codemirror_mode": {
    "name": "ipython",
    "version": 3
   },
   "file_extension": ".py",
   "mimetype": "text/x-python",
   "name": "python",
   "nbconvert_exporter": "python",
   "pygments_lexer": "ipython3",
   "version": "3.9.12"
  },
  "orig_nbformat": 4
 },
 "nbformat": 4,
 "nbformat_minor": 2
}
