{
 "cells": [
  {
   "cell_type": "code",
   "execution_count": 1,
   "metadata": {},
   "outputs": [],
   "source": [
    "import warnings\n",
    "warnings.simplefilter(action=\"ignore\", category=FutureWarning)\n",
    "import math\n",
    "import numpy as np\n",
    "import pandas as pd\n",
    "\n",
    "pd.set_option(\"display.max_columns\", None)\n",
    "\n",
    "import matplotlib.pyplot as plt\n",
    "import seaborn as sns\n",
    "sns.set_theme(style=\"darkgrid\", palette=\"colorblind\")\n",
    "sns.set(rc={\"figure.figsize\": (11.5, 8.5), \"figure.dpi\": 100})\n",
    "\n",
    "from sklearn import metrics\n",
    "from sklearn.base import BaseEstimator, ClassifierMixin\n",
    "from sklearn.utils.validation import check_X_y, check_array, check_is_fitted\n",
    "from sklearn.utils.multiclass import unique_labels\n",
    "\n",
    "from scipy import stats as st\n",
    "\n",
    "from dataset import SCIData, SCICols\n",
    "%load_ext autoreload\n",
    "%autoreload 1\n",
    "%aimport utils.data_profiling, dataset"
   ]
  },
  {
   "cell_type": "code",
   "execution_count": 2,
   "metadata": {},
   "outputs": [],
   "source": [
    "# sci = SCIData.load('data/sci.h5').clean_all().filter_vague_diagnoses().derive_all().save()\n",
    "sci = SCIData.quickload(\"data/sci_processed.h5\")\n",
    "sci = sci[sci.c_NEWS_score.notna()]\n"
   ]
  },
  {
   "cell_type": "markdown",
   "metadata": {},
   "source": [
    "## Analysis Functions"
   ]
  },
  {
   "cell_type": "markdown",
   "metadata": {},
   "source": [
    "### AUROC\n",
    "\n",
    "We use the AUROC to measure the discriminative ability of NEWS. \n",
    "\n",
    "The minimum possible AUROC value, 0.5, corresponds to a completely random relationship between the measured score and adverse outcomes. Generally, a score of 0.7-0.8 indicates reasonable discrimination and values over 0.8 indicate good discrimination.\n",
    "\n",
    "For large samples, the distribution of AUC is approximately normal. Hence, confidence intervals may be computed using the standard normal distribution as:\n",
    "\n",
    "\\begin{equation}\n",
    "AUC \\pm z_{\\alpha/2}SE(AUC)\n",
    "\\end{equation}\n",
    "\n",
    "The formula for $SE(AUC)$ is:\n",
    "\n",
    "\\begin{equation}\n",
    "SE(AUC) = \\sqrt{\\frac{AUC(1-AUC) + (N_1-1)(Q_1-AUC^2) + (N_2-1)(Q_2-AUC^2)}{N_1N_2}}\n",
    "\\end{equation}\n",
    "where,\n",
    "\n",
    "\\begin{equation}\n",
    "Q_1 = \\frac{AUC}{2-AUC}, \\;\n",
    "Q_2 = \\frac{2AUC^2}{1+AUC}\n",
    "\\end{equation}\n",
    "\n",
    "[Source 1](https://ncss-wpengine.netdna-ssl.com/wp-content/themes/ncss/pdf/Procedures/PASS/Confidence_Intervals_for_the_Area_Under_an_ROC_Curve.pdf), [Source 2](https://stackoverflow.com/a/50437392/7662085)"
   ]
  },
  {
   "cell_type": "code",
   "execution_count": 3,
   "metadata": {},
   "outputs": [],
   "source": [
    "def roc_auc_ci(y_true, y_score):\n",
    "    \"\"\" Computes AUROC with 95% confidence intervals\n",
    "    Uses the formula from \n",
    "    :param y_true: True labels or binary label indicators\n",
    "    :param y_score: Target scores\n",
    "    \"\"\"\n",
    "\n",
    "    # See https://stackoverflow.com/a/20864883/7662085\n",
    "    # zscore inside of which 95% of data lies\n",
    "    za2 = st.norm.ppf(0.975)\n",
    "\n",
    "    # From: https://gist.github.com/doraneko94/e24643136cfb8baf03ef8a314ab9615c\n",
    "    AUC = metrics.roc_auc_score(y_true, y_score)\n",
    "    N1, N2 = sum(y_true == True), sum(y_true != True)\n",
    "    Q1, Q2 = AUC / (2 - AUC), 2 * AUC ** 2 / (1 + AUC)\n",
    "    SE_AUC = math.sqrt(\n",
    "        (AUC * (1 - AUC) + (N1 - 1) * (Q1 - AUC ** 2) + (N2 - 1) * (Q2 - AUC ** 2))\n",
    "        / (N1 * N2)\n",
    "    )\n",
    "    lower, upper = max(AUC - za2 * SE_AUC, 0), min(AUC + za2 * SE_AUC, 1)\n",
    "    return lower, AUC, upper\n"
   ]
  },
  {
   "cell_type": "code",
   "execution_count": 4,
   "metadata": {},
   "outputs": [],
   "source": [
    "def multiplot_news_roc(plots, ci=True, save=None):\n",
    "    fig, ax = plt.subplots(nrows=1, ncols=3, figsize=(18, 6))\n",
    "    for idx, (title, (curves, y_score)) in enumerate(plots.items()):\n",
    "        for (name, y_true) in curves.items():\n",
    "            mask = y_true.notna()\n",
    "            metrics.RocCurveDisplay.from_predictions(\n",
    "                y_true[mask], y_score[mask], ax=ax[idx], name=name\n",
    "            )\n",
    "            if ci:\n",
    "                lower, auc, upper = roc_auc_ci(y_true, y_score)\n",
    "                print(\n",
    "                    f\"AUC {name} {title}: {round(auc,3)} ({round(lower, 3)}-{round(upper, 3)})\"\n",
    "                )\n",
    "        ax[idx].set_title(title)\n",
    "    if save:\n",
    "        plt.savefig(save, bbox_inches=\"tight\")\n",
    "\n",
    "\n",
    "def multiplot_news_roc_with_masks(\n",
    "    df, masks, columns, score_col=\"c_NEWS_score\", save=None, ci=False\n",
    "):\n",
    "    plots = {\n",
    "        title: (\n",
    "            {name: df[mask][col] for name, col in columns.items()},\n",
    "            df[mask][score_col],\n",
    "        )\n",
    "        for title, mask in masks.items()\n",
    "    }\n",
    "    multiplot_news_roc(plots, ci, save)\n",
    "\n",
    "\n",
    "def multiplot_news_roc_by_series(\n",
    "    df, series, score_col=\"c_NEWS_score\", save=None, ci=True\n",
    "):\n",
    "    plots = {title: ({\"\": ser}, df[score_col]) for title, ser in series.items()}\n",
    "    multiplot_news_roc(plots, ci, save)\n"
   ]
  },
  {
   "cell_type": "markdown",
   "metadata": {},
   "source": [
    "### Chi-square Test\n",
    "Tests the association between categorical variables.\n",
    " -  $H_0$: The null hypothesis asserts the independence of the variables under consideration (so, for example, high NEWS and mortality are independent of each other).\n",
    " - The null hypothesis is rejected if the P value is less than a level of significance which has been defined in advance. For example, 0.05 for 95% confidence.\n",
    "\n",
    "The expected frequencies are calculated under the assumption of independence and the degrees of freedom depend on the number of rows and columns of the contingency table we form (`chi2_contingency` does this for us)."
   ]
  },
  {
   "cell_type": "code",
   "execution_count": 5,
   "metadata": {},
   "outputs": [],
   "source": [
    "def chisquarebinary(col1, col2, mask=None, condense_output=False):\n",
    "    if mask is not None:\n",
    "        col1, col2 = col1[mask], col2[mask]\n",
    "        n = mask.sum()\n",
    "    else:\n",
    "        n = col1.shape[0]\n",
    "    table = np.array(\n",
    "        [\n",
    "            [(col1 & col2).sum(), ((~col1) & col2).sum()],\n",
    "            [(col1 & (~col2)).sum(), (~(col1 | col2)).sum()],\n",
    "        ]\n",
    "    )\n",
    "\n",
    "    chi2, p, dof, expected = st.chi2_contingency(table)\n",
    "    if condense_output:\n",
    "        print(f\"χ^2 ({dof}, N={n}) = {chi2:.5g}, p={p}\")\n",
    "    else:\n",
    "        print(\"Table of counts:\")\n",
    "        display(\n",
    "            pd.DataFrame(\n",
    "                table,\n",
    "                columns=[str(col1.name), \"Not \" + str(col1.name)],\n",
    "                index=[str(col2.name), \"Not \" + str(col2.name)],\n",
    "            )\n",
    "        )\n",
    "        print(f\"N = {n}\")\n",
    "        print(f\"χ2 statistic:     {chi2:.5g}\")\n",
    "        print(f\"p-value:            {p}\")\n",
    "        print(f\"Degrees of freedom: {dof}\")\n",
    "        print(\"Expected frequencies:\")\n",
    "        print(expected)\n"
   ]
  },
  {
   "cell_type": "markdown",
   "metadata": {},
   "source": [
    "### Distribution Tests\n",
    "\n",
    "For a given binary outcome, we compare the sub-populations where it does and does not occur. Specifically, we test the distributions of the following variables:\n",
    " - Age\n",
    " - NEWS score\n",
    " - Total LOS\n",
    " - NEWS components\n",
    "\n",
    "We compare normally distributed variables with Welch's unequal variances t-test, a variant of the Student's t-test that does not assume the populations have equal variances. We compare non-normally distributed variables with Mann-Whitney U test."
   ]
  },
  {
   "cell_type": "code",
   "execution_count": 6,
   "metadata": {},
   "outputs": [],
   "source": [
    "def stats_tests_on_outcome(df, col, mask=True, news_components=True, tex=False):\n",
    "    welch = (\"Welch\", lambda a, b: st.ttest_ind(a, b, equal_var=False))\n",
    "    mann = (\"Mann\", st.mannwhitneyu)\n",
    "    ind = (\"Independent samples\", st.ttest_ind)\n",
    "    tests = {\n",
    "        \"Age\": welch,\n",
    "        \"c_NEWS_score\": mann,\n",
    "        \"TotalLOS\": mann,\n",
    "    }\n",
    "    if news_components:\n",
    "        tests = {\n",
    "            **tests,\n",
    "            **{\n",
    "                component: welch\n",
    "                for component in SCICols.news_data_raw[:-2]  # Exclude binary components\n",
    "            },\n",
    "        }\n",
    "    results = []\n",
    "    delim = \"\\pm\" if tex else \"±\"\n",
    "    numeric = \"$\" if tex else \"\"\n",
    "    for feature, (testname, test) in tests.items():\n",
    "        feature_mask = df[feature].notna() & mask\n",
    "        d1, d2 = df[feature_mask & df[col]], df[feature_mask & ~df[col]]\n",
    "        t, p = test(d1[feature], d2[feature])\n",
    "        if tex and feature == \"c_NEWS_score\":\n",
    "            featurename = \"NEWS\"\n",
    "        else:\n",
    "            featurename = feature\n",
    "        results.append(\n",
    "            (\n",
    "                featurename,\n",
    "                feature_mask.sum(),\n",
    "                f\"{numeric}{round(d1[feature].mean(), 2)} {delim} {round(d1[feature].std(), 2)}{numeric}\",\n",
    "                f\"{numeric}{round(d2[feature].mean(), 2)} {delim} {round(d2[feature].std(), 2)}{numeric}\",\n",
    "                testname,\n",
    "                numeric + str(round(t, 6)) + numeric,\n",
    "                numeric + str(round(p, 6)) + numeric,\n",
    "            )\n",
    "        )\n",
    "\n",
    "    return pd.DataFrame(\n",
    "        results,\n",
    "        columns=[\n",
    "            \"Variable\",\n",
    "            \"n\",\n",
    "            \"Mean (Event)\" if tex else \"Mean True\",\n",
    "            \"Mean ($\\lnot$Event)\" if tex else \"Mean False\",\n",
    "            \"Test\",\n",
    "            \"Statistic\",\n",
    "            \"$p$\" if tex else \"P value\",\n",
    "        ],\n",
    "    )\n"
   ]
  },
  {
   "cell_type": "code",
   "execution_count": 7,
   "metadata": {},
   "outputs": [],
   "source": [
    "def stats_latex(df, col, thresholds, news_components=True):\n",
    "    col_order = [\n",
    "        \"Variable\",\n",
    "        \"LOS\",\n",
    "        \"Mean (Event)\",\n",
    "        \"Mean ($\\lnot$Event)\",\n",
    "        \"Test\",\n",
    "        \"$p$\",\n",
    "    ]\n",
    "    dfs = []\n",
    "    for threshold, mask in thresholds.items():\n",
    "        newdf = stats_tests_on_outcome(\n",
    "            df, col, mask, news_components=news_components, tex=True\n",
    "        )\n",
    "        newdf[\"LOS\"] = threshold\n",
    "        dfs.append(newdf)\n",
    "\n",
    "    r = pd.concat(dfs)[col_order].set_index([\"Variable\", \"LOS\"]).sort_index()\n",
    "\n",
    "    return r\n"
   ]
  },
  {
   "cell_type": "markdown",
   "metadata": {},
   "source": [
    "## Data Summary\n",
    "\n",
    "Of the 170833 patient records we have, 124162 have the NEWS score (recorded on-admission or by us) and all the component values.\n",
    "\n",
    "In the records with NEWS:\n",
    " - There are 63450 unique patients.\n",
    " - There are 65096 (52.43%) female records.\n",
    " - There are 5308 (4.28%) deaths during stay and 4086 (3.29%) deaths within 30 days.\n",
    " - There are 15836 (12.75%) readmissions within 30 days.\n",
    " - 91.43% are admitted through Emergency A&E.\n",
    " - 66.48% are admitted into the EAU and 29.43% receive AEC."
   ]
  },
  {
   "cell_type": "code",
   "execution_count": 8,
   "metadata": {},
   "outputs": [],
   "source": [
    "def summarise(df, mask, col):\n",
    "    n = df[mask][col].value_counts()\n",
    "    props = (n / mask.sum() * 100).round(2).rename(\"Proportion\")\n",
    "    display(pd.concat([n.rename(\"n\"), props], axis=1))\n",
    "    return n, props\n",
    "\n",
    "\n",
    "def summarise_highnews(df, masks):\n",
    "    high_news = df.c_NEWS_score >= 7\n",
    "    print(\"Proportion of occurrences with NEWS >= 7:\")\n",
    "    for key, mask in masks.items():\n",
    "        n_true, n_total = (mask & high_news).sum(), (mask).sum()\n",
    "        print(f\"{key}: {n_true}/{n_total} = {round(n_true/n_total*100, 2)}%\")\n",
    "\n"
   ]
  },
  {
   "cell_type": "code",
   "execution_count": 10,
   "metadata": {},
   "outputs": [
    {
     "name": "stdout",
     "output_type": "stream",
     "text": [
      "Patients with all NEWS data: 124162\n",
      "Unique patients (with all NEWS): 63450\n",
      "Proportion of female patients: 65096 = 52.43%\n",
      "Readmissions:\n"
     ]
    },
    {
     "data": {
      "text/html": [
       "<div>\n",
       "<style scoped>\n",
       "    .dataframe tbody tr th:only-of-type {\n",
       "        vertical-align: middle;\n",
       "    }\n",
       "\n",
       "    .dataframe tbody tr th {\n",
       "        vertical-align: top;\n",
       "    }\n",
       "\n",
       "    .dataframe thead th {\n",
       "        text-align: right;\n",
       "    }\n",
       "</style>\n",
       "<table border=\"1\" class=\"dataframe\">\n",
       "  <thead>\n",
       "    <tr style=\"text-align: right;\">\n",
       "      <th></th>\n",
       "      <th>n</th>\n",
       "      <th>Proportion</th>\n",
       "    </tr>\n",
       "  </thead>\n",
       "  <tbody>\n",
       "    <tr>\n",
       "      <th>False</th>\n",
       "      <td>49099</td>\n",
       "      <td>39.54</td>\n",
       "    </tr>\n",
       "    <tr>\n",
       "      <th>True</th>\n",
       "      <td>15836</td>\n",
       "      <td>12.75</td>\n",
       "    </tr>\n",
       "  </tbody>\n",
       "</table>\n",
       "</div>"
      ],
      "text/plain": [
       "           n  Proportion\n",
       "False  49099       39.54\n",
       "True   15836       12.75"
      ]
     },
     "metadata": {},
     "output_type": "display_data"
    }
   ],
   "source": [
    "mask = (\n",
    "    sci[SCICols.news_data_raw + [\"c_NEWS_score\"] + SCICols.news_data_scored]\n",
    "    .notna()\n",
    "    .all(axis=1)\n",
    ")\n",
    "print(f\"Patients with all NEWS data: {mask.sum()}\")\n",
    "print(f\"Unique patients (with all NEWS): {sci[mask].PatientNumber.unique().shape[0]}\")\n",
    "\n",
    "n = sci[mask].Female.sum()\n",
    "print(f\"Proportion of female patients: {n} = {round(n/mask.sum()*100, 2)}%\")\n",
    "\n",
    "print(\"Readmissions:\")\n",
    "_ = summarise(sci, mask, \"Readmitted\")\n",
    "\n"
   ]
  },
  {
   "cell_type": "code",
   "execution_count": 11,
   "metadata": {},
   "outputs": [
    {
     "data": {
      "text/html": [
       "<div>\n",
       "<style scoped>\n",
       "    .dataframe tbody tr th:only-of-type {\n",
       "        vertical-align: middle;\n",
       "    }\n",
       "\n",
       "    .dataframe tbody tr th {\n",
       "        vertical-align: top;\n",
       "    }\n",
       "\n",
       "    .dataframe thead th {\n",
       "        text-align: right;\n",
       "    }\n",
       "</style>\n",
       "<table border=\"1\" class=\"dataframe\">\n",
       "  <thead>\n",
       "    <tr style=\"text-align: right;\">\n",
       "      <th></th>\n",
       "      <th>n</th>\n",
       "      <th>Proportion</th>\n",
       "    </tr>\n",
       "  </thead>\n",
       "  <tbody>\n",
       "    <tr>\n",
       "      <th>EMERGENCY A+E</th>\n",
       "      <td>113518</td>\n",
       "      <td>91.43</td>\n",
       "    </tr>\n",
       "    <tr>\n",
       "      <th>EMERGENCY GP REFER</th>\n",
       "      <td>5955</td>\n",
       "      <td>4.80</td>\n",
       "    </tr>\n",
       "    <tr>\n",
       "      <th>BOOKED ADMISSION</th>\n",
       "      <td>1814</td>\n",
       "      <td>1.46</td>\n",
       "    </tr>\n",
       "    <tr>\n",
       "      <th>NON EM TRAN OTH PROV</th>\n",
       "      <td>1192</td>\n",
       "      <td>0.96</td>\n",
       "    </tr>\n",
       "    <tr>\n",
       "      <th>EMERGENCY OPD</th>\n",
       "      <td>924</td>\n",
       "      <td>0.74</td>\n",
       "    </tr>\n",
       "    <tr>\n",
       "      <th>ELECTIVE PLANNED</th>\n",
       "      <td>381</td>\n",
       "      <td>0.31</td>\n",
       "    </tr>\n",
       "    <tr>\n",
       "      <th>EMERG TRAN OTH PROV</th>\n",
       "      <td>336</td>\n",
       "      <td>0.27</td>\n",
       "    </tr>\n",
       "    <tr>\n",
       "      <th>WAITING LIST</th>\n",
       "      <td>31</td>\n",
       "      <td>0.02</td>\n",
       "    </tr>\n",
       "    <tr>\n",
       "      <th>MATERNITY ANTE NATAL</th>\n",
       "      <td>6</td>\n",
       "      <td>0.00</td>\n",
       "    </tr>\n",
       "    <tr>\n",
       "      <th>TRAUMA ELECTIVE ADM</th>\n",
       "      <td>5</td>\n",
       "      <td>0.00</td>\n",
       "    </tr>\n",
       "  </tbody>\n",
       "</table>\n",
       "</div>"
      ],
      "text/plain": [
       "                           n  Proportion\n",
       "EMERGENCY A+E         113518       91.43\n",
       "EMERGENCY GP REFER      5955        4.80\n",
       "BOOKED ADMISSION        1814        1.46\n",
       "NON EM TRAN OTH PROV    1192        0.96\n",
       "EMERGENCY OPD            924        0.74\n",
       "ELECTIVE PLANNED         381        0.31\n",
       "EMERG TRAN OTH PROV      336        0.27\n",
       "WAITING LIST              31        0.02\n",
       "MATERNITY ANTE NATAL       6        0.00\n",
       "TRAUMA ELECTIVE ADM        5        0.00"
      ]
     },
     "metadata": {},
     "output_type": "display_data"
    },
    {
     "name": "stdout",
     "output_type": "stream",
     "text": [
      "Everything except top-2: 4689 = 3.76\n"
     ]
    }
   ],
   "source": [
    "n, props = summarise(sci, mask, \"AdmissionMethodDescription\")\n",
    "print(f\"Everything except top-2: {n.tail(8).sum()} = {props.tail(8).sum()}\")\n",
    "\n"
   ]
  },
  {
   "cell_type": "code",
   "execution_count": 12,
   "metadata": {},
   "outputs": [
    {
     "data": {
      "text/html": [
       "<div>\n",
       "<style scoped>\n",
       "    .dataframe tbody tr th:only-of-type {\n",
       "        vertical-align: middle;\n",
       "    }\n",
       "\n",
       "    .dataframe tbody tr th {\n",
       "        vertical-align: top;\n",
       "    }\n",
       "\n",
       "    .dataframe thead th {\n",
       "        text-align: right;\n",
       "    }\n",
       "</style>\n",
       "<table border=\"1\" class=\"dataframe\">\n",
       "  <thead>\n",
       "    <tr style=\"text-align: right;\">\n",
       "      <th></th>\n",
       "      <th>n</th>\n",
       "      <th>Proportion</th>\n",
       "    </tr>\n",
       "  </thead>\n",
       "  <tbody>\n",
       "    <tr>\n",
       "      <th>EAU</th>\n",
       "      <td>82541</td>\n",
       "      <td>66.48</td>\n",
       "    </tr>\n",
       "    <tr>\n",
       "      <th>AEC</th>\n",
       "      <td>18964</td>\n",
       "      <td>15.27</td>\n",
       "    </tr>\n",
       "    <tr>\n",
       "      <th>AAA</th>\n",
       "      <td>11012</td>\n",
       "      <td>8.87</td>\n",
       "    </tr>\n",
       "    <tr>\n",
       "      <th>AAAC</th>\n",
       "      <td>6570</td>\n",
       "      <td>5.29</td>\n",
       "    </tr>\n",
       "    <tr>\n",
       "      <th>HH3</th>\n",
       "      <td>2980</td>\n",
       "      <td>2.40</td>\n",
       "    </tr>\n",
       "    <tr>\n",
       "      <th>HH1M</th>\n",
       "      <td>2095</td>\n",
       "      <td>1.69</td>\n",
       "    </tr>\n",
       "  </tbody>\n",
       "</table>\n",
       "</div>"
      ],
      "text/plain": [
       "          n  Proportion\n",
       "EAU   82541       66.48\n",
       "AEC   18964       15.27\n",
       "AAA   11012        8.87\n",
       "AAAC   6570        5.29\n",
       "HH3    2980        2.40\n",
       "HH1M   2095        1.69"
      ]
     },
     "metadata": {},
     "output_type": "display_data"
    },
    {
     "name": "stdout",
     "output_type": "stream",
     "text": [
      "AEC: 36546 = 29.43\n"
     ]
    }
   ],
   "source": [
    "n, props = summarise(sci, mask, \"AdmitWard\")\n",
    "aec = [\"AEC\", \"AAA\", \"AAAC\"]\n",
    "print(f\"AEC: {n.loc[aec].sum()} = {props.loc[aec].sum()}\")\n",
    "\n"
   ]
  },
  {
   "cell_type": "markdown",
   "metadata": {},
   "source": [
    "### NEWS Score and Thresholds\n",
    "\n",
    "The NEWS specification prescribes the level of clinical response depending on the aggregate score the patient receives [RCP17, pp.53, 62]. \n",
    " - Score 0: Low clinical risk, continue routine monitoring.\n",
    " - Score 1-4: Low clinical risk, ward-based response, RN assesment of patient.\n",
    " - Score of 3 in any single parameter: Low-medium risk, clinician review.\n",
    " - Score ≥ 5: Medium clinical risk, urgent response threshold, urgent clinician assessment.\n",
    " - Score ≥ 7: High clinical risk, emergency response threshold, urgent assessment, consider transfer to higher-dependency unit or ICU."
   ]
  },
  {
   "cell_type": "code",
   "execution_count": 15,
   "metadata": {},
   "outputs": [
    {
     "data": {
      "text/html": [
       "<div>\n",
       "<style scoped>\n",
       "    .dataframe tbody tr th:only-of-type {\n",
       "        vertical-align: middle;\n",
       "    }\n",
       "\n",
       "    .dataframe tbody tr th {\n",
       "        vertical-align: top;\n",
       "    }\n",
       "\n",
       "    .dataframe thead th {\n",
       "        text-align: right;\n",
       "    }\n",
       "</style>\n",
       "<table border=\"1\" class=\"dataframe\">\n",
       "  <thead>\n",
       "    <tr style=\"text-align: right;\">\n",
       "      <th></th>\n",
       "      <th>n</th>\n",
       "      <th>Proportion</th>\n",
       "    </tr>\n",
       "  </thead>\n",
       "  <tbody>\n",
       "    <tr>\n",
       "      <th>Low</th>\n",
       "      <td>118081</td>\n",
       "      <td>95.10</td>\n",
       "    </tr>\n",
       "    <tr>\n",
       "      <th>Medium</th>\n",
       "      <td>3748</td>\n",
       "      <td>3.02</td>\n",
       "    </tr>\n",
       "    <tr>\n",
       "      <th>High</th>\n",
       "      <td>2333</td>\n",
       "      <td>1.88</td>\n",
       "    </tr>\n",
       "  </tbody>\n",
       "</table>\n",
       "</div>"
      ],
      "text/plain": [
       "             n  Proportion\n",
       "Low     118081       95.10\n",
       "Medium    3748        3.02\n",
       "High      2333        1.88"
      ]
     },
     "metadata": {},
     "output_type": "display_data"
    }
   ],
   "source": [
    "_ = summarise(SCIData(sci).derive_news_risk(), mask, \"c_NEWS_risk\")\n",
    "\n"
   ]
  },
  {
   "cell_type": "code",
   "execution_count": 16,
   "metadata": {},
   "outputs": [
    {
     "name": "stdout",
     "output_type": "stream",
     "text": [
      "Median NEWS: 1.0\n",
      "NEWS IQR: 2.0\n"
     ]
    }
   ],
   "source": [
    "print(f\"Median NEWS: {sci[mask].c_NEWS_score.median()}\")\n",
    "print(\n",
    "    f\"NEWS IQR: {sci[mask].c_NEWS_score.quantile(0.75) - sci[mask].c_NEWS_score.quantile(0.25)}\"\n",
    ")\n",
    "\n"
   ]
  },
  {
   "cell_type": "markdown",
   "metadata": {},
   "source": [
    "## Critical Events\n",
    "\n",
    "The original study measured ROCAUC based on whether patients that died within 24 hours triggered a red-level score [RCP12, pp. 15-16].\n",
    "We consider \"critical events\" i.e. death during stay OR critical care admission."
   ]
  },
  {
   "cell_type": "code",
   "execution_count": 19,
   "metadata": {},
   "outputs": [
    {
     "name": "stdout",
     "output_type": "stream",
     "text": [
      "Total critical events: 8826\n",
      "Critical events 24h: 909\n",
      "Critical events 48h: 2020\n",
      "Critical events with NEWS: 8826\n"
     ]
    }
   ],
   "source": [
    "sci = (\n",
    "    SCIData(sci)\n",
    "    .derive_death_within(within=1, col_name=\"DiedWithin24h\")\n",
    "    .derive_death_within(within=2, col_name=\"DiedWithin48h\")\n",
    "    .derive_critical_care(within=999, col_name=\"CriticalCare\")\n",
    "    .derive_critical_care(within=1, col_name=\"CriticalCareWithin24h\")\n",
    "    .derive_critical_care(within=2, col_name=\"CriticalCareWithin48h\")\n",
    ")\n",
    "sci[\"CriticalEvent\"], sci[\"CriticalEventWithin24h\"], sci[\"CriticalEventWithin48h\"] = (\n",
    "    sci.DiedDuringStay | sci.CriticalCare,\n",
    "    sci.DiedWithin24h | sci.CriticalCareWithin24h,\n",
    "    sci.DiedWithin48h | sci.CriticalCareWithin48h,\n",
    ")\n",
    "print(f\"Total critical events: {sci.CriticalEvent.sum()}\")\n",
    "print(f\"Critical events 24h: {sci.CriticalEventWithin24h.sum()}\")\n",
    "print(f\"Critical events 48h: {sci.CriticalEventWithin48h.sum()}\")\n",
    "print(f\"Critical events with NEWS: {sci[sci.c_NEWS_score.notna()].CriticalEvent.sum()}\")\n",
    "\n"
   ]
  },
  {
   "cell_type": "code",
   "execution_count": 20,
   "metadata": {},
   "outputs": [
    {
     "name": "stdout",
     "output_type": "stream",
     "text": [
      "Proportion of occurrences with NEWS >= 7:\n",
      "24h: 300/909 = 33.0%\n",
      "48h: 550/2020 = 27.23%\n",
      "Any: 1423/8826 = 16.12%\n"
     ]
    }
   ],
   "source": [
    "summarise_highnews(\n",
    "    sci,\n",
    "    {\n",
    "        \"24h\": sci.CriticalEventWithin24h,\n",
    "        \"48h\": sci.CriticalEventWithin48h,\n",
    "        \"Any\": sci.CriticalEvent,\n",
    "    },\n",
    ")\n",
    "\n"
   ]
  },
  {
   "cell_type": "markdown",
   "metadata": {},
   "source": [
    "### AUROC\n",
    "As a proxy for measurements taken within 24 or 48 hours of a critical event occurring, since we only have admission values, we check stays that lasted a total of n hours altogether.\n",
    "\n",
    "We check the discriminative ability of NEWS on stays that lasted 24 or 48 hours, and on the full dataset (that has NEWS). "
   ]
  },
  {
   "cell_type": "code",
   "execution_count": 21,
   "metadata": {},
   "outputs": [
    {
     "name": "stdout",
     "output_type": "stream",
     "text": [
      "AUC Within 24h Critical Event: 0.817 (0.8-0.833)\n",
      "AUC Within 48h Critical Event: 0.807 (0.796-0.819)\n",
      "AUC At any point Critical Event: 0.769 (0.763-0.775)\n",
      "AUC Within 24h Mortality: 0.93 (0.911-0.948)\n",
      "AUC Within 48h Mortality: 0.912 (0.899-0.926)\n",
      "AUC At any point Mortality: 0.77 (0.762-0.777)\n",
      "AUC Within 24h Critical Care: 0.759 (0.736-0.781)\n",
      "AUC Within 48h Critical Care: 0.756 (0.741-0.771)\n",
      "AUC At any point Critical Care: 0.767 (0.758-0.775)\n"
     ]
    },
    {
     "data": {
      "image/png": "[encoded data removed]",
      "text/plain": [
       "<Figure size 1800x600 with 3 Axes>"
      ]
     },
     "metadata": {},
     "output_type": "display_data"
    }
   ],
   "source": [
    "plots = {\n",
    "    \"Critical Event\": (\n",
    "        {\n",
    "            \"Within 24h\": sci.CriticalEventWithin24h,\n",
    "            \"Within 48h\": sci.CriticalEventWithin48h,\n",
    "            \"At any point\": sci.CriticalEvent,\n",
    "        },\n",
    "        sci.c_NEWS_score,\n",
    "    ),\n",
    "    \"Mortality\": (\n",
    "        {\n",
    "            \"Within 24h\": sci.DiedWithin24h,\n",
    "            \"Within 48h\": sci.DiedWithin48h,\n",
    "            \"At any point\": sci.DiedDuringStay,\n",
    "        },\n",
    "        sci.c_NEWS_score,\n",
    "    ),\n",
    "    \"Critical Care\": (\n",
    "        {\n",
    "            \"Within 24h\": sci.CriticalCareWithin24h,\n",
    "            \"Within 48h\": sci.CriticalCareWithin48h,\n",
    "            \"At any point\": sci.CriticalCare,\n",
    "        },\n",
    "        sci.c_NEWS_score,\n",
    "    ),\n",
    "}\n",
    "\n",
    "\n",
    "multiplot_news_roc(plots, ci=True, save=\"images/critical_roc_multi.png\")\n",
    "\n"
   ]
  },
  {
   "cell_type": "markdown",
   "metadata": {},
   "source": [
    "### Threshold"
   ]
  },
  {
   "cell_type": "code",
   "execution_count": 50,
   "metadata": {},
   "outputs": [],
   "source": [
    "from sklearn.metrics import (\n",
    "    accuracy_score,\n",
    "    precision_score,\n",
    "    recall_score,\n",
    "    roc_auc_score,\n",
    "    f1_score,\n",
    "    fbeta_score,\n",
    "    make_scorer,\n",
    ")\n",
    "\n",
    "f2_score = make_scorer(fbeta_score, beta=2)\n",
    "\n",
    "def get_metrics(y_true, y_pred):\n",
    "    return {\n",
    "        \"Accuracy\": accuracy_score(y_true, y_pred),\n",
    "        \"Precision\": precision_score(y_true, y_pred),\n",
    "        \"Recall\": recall_score(y_true, y_pred),\n",
    "        \"F1 Score\": f1_score(y_true, y_pred),\n",
    "        \"F2 Score\": fbeta_score(y_true, y_pred, beta=2),\n",
    "    }"
   ]
  },
  {
   "cell_type": "code",
   "execution_count": 59,
   "metadata": {},
   "outputs": [
    {
     "data": {
      "text/html": [
       "<div>\n",
       "<style scoped>\n",
       "    .dataframe tbody tr th:only-of-type {\n",
       "        vertical-align: middle;\n",
       "    }\n",
       "\n",
       "    .dataframe tbody tr th {\n",
       "        vertical-align: top;\n",
       "    }\n",
       "\n",
       "    .dataframe thead th {\n",
       "        text-align: right;\n",
       "    }\n",
       "</style>\n",
       "<table border=\"1\" class=\"dataframe\">\n",
       "  <thead>\n",
       "    <tr style=\"text-align: right;\">\n",
       "      <th></th>\n",
       "      <th>Accuracy</th>\n",
       "      <th>Precision</th>\n",
       "      <th>Recall</th>\n",
       "      <th>F1 Score</th>\n",
       "      <th>F2 Score</th>\n",
       "    </tr>\n",
       "    <tr>\n",
       "      <th>Outcome</th>\n",
       "      <th></th>\n",
       "      <th></th>\n",
       "      <th></th>\n",
       "      <th></th>\n",
       "      <th></th>\n",
       "    </tr>\n",
       "  </thead>\n",
       "  <tbody>\n",
       "    <tr>\n",
       "      <th>CriticalEvent</th>\n",
       "      <td>0.932968</td>\n",
       "      <td>0.604246</td>\n",
       "      <td>0.161228</td>\n",
       "      <td>0.254539</td>\n",
       "      <td>0.188932</td>\n",
       "    </tr>\n",
       "    <tr>\n",
       "      <th>CriticalEventWithin24h</th>\n",
       "      <td>0.978575</td>\n",
       "      <td>0.127389</td>\n",
       "      <td>0.330033</td>\n",
       "      <td>0.183824</td>\n",
       "      <td>0.250376</td>\n",
       "    </tr>\n",
       "    <tr>\n",
       "      <th>CriticalEventWithin48h</th>\n",
       "      <td>0.973662</td>\n",
       "      <td>0.233546</td>\n",
       "      <td>0.272277</td>\n",
       "      <td>0.251429</td>\n",
       "      <td>0.263536</td>\n",
       "    </tr>\n",
       "  </tbody>\n",
       "</table>\n",
       "</div>"
      ],
      "text/plain": [
       "                        Accuracy  Precision    Recall  F1 Score  F2 Score\n",
       "Outcome                                                                  \n",
       "CriticalEvent           0.932968   0.604246  0.161228  0.254539  0.188932\n",
       "CriticalEventWithin24h  0.978575   0.127389  0.330033  0.183824  0.250376\n",
       "CriticalEventWithin48h  0.973662   0.233546  0.272277  0.251429  0.263536"
      ]
     },
     "execution_count": 59,
     "metadata": {},
     "output_type": "execute_result"
    }
   ],
   "source": [
    "mask = sci.c_NEWS_score.notna()\n",
    "y_pred = sci.c_NEWS_score >= 7\n",
    "pd.DataFrame([{'Outcome':col, **get_metrics(sci[mask][col], y_pred[mask])} for col in ['CriticalEvent', 'CriticalEventWithin24h', 'CriticalEventWithin48h']]).set_index('Outcome')"
   ]
  },
  {
   "cell_type": "markdown",
   "metadata": {},
   "source": [
    "### Chi-square\n",
    "\n",
    "We perform a chi-square test of independence to examine the relation between critical event occurrence and high-clinical risk per the NEWS. The relation between these variables was significant in all cases."
   ]
  },
  {
   "cell_type": "code",
   "execution_count": 22,
   "metadata": {},
   "outputs": [
    {
     "name": "stdout",
     "output_type": "stream",
     "text": [
      "χ^2 (1, N=124343) = 4752.6, p=0.0\n",
      "χ^2 (1, N=124343) = 7078.6, p=0.0\n",
      "χ^2 (1, N=124343) = 10344, p=0.0\n"
     ]
    }
   ],
   "source": [
    "# 24 hours, 48 hours, all\n",
    "chisquarebinary(\n",
    "    (sci.c_NEWS_score >= 7), sci.CriticalEventWithin24h, condense_output=True,\n",
    ")\n",
    "chisquarebinary(\n",
    "    (sci.c_NEWS_score >= 7), sci.CriticalEventWithin48h, condense_output=True,\n",
    ")\n",
    "chisquarebinary(\n",
    "    (sci.c_NEWS_score >= 7), sci.CriticalEvent, condense_output=True,\n",
    ")\n",
    "\n"
   ]
  },
  {
   "cell_type": "markdown",
   "metadata": {},
   "source": [
    "In total, 1423/8826 (16%) of critical event occurrences had NEWS >= 7"
   ]
  },
  {
   "cell_type": "code",
   "execution_count": 23,
   "metadata": {},
   "outputs": [
    {
     "name": "stdout",
     "output_type": "stream",
     "text": [
      "Table of counts:\n"
     ]
    },
    {
     "data": {
      "text/html": [
       "<div>\n",
       "<style scoped>\n",
       "    .dataframe tbody tr th:only-of-type {\n",
       "        vertical-align: middle;\n",
       "    }\n",
       "\n",
       "    .dataframe tbody tr th {\n",
       "        vertical-align: top;\n",
       "    }\n",
       "\n",
       "    .dataframe thead th {\n",
       "        text-align: right;\n",
       "    }\n",
       "</style>\n",
       "<table border=\"1\" class=\"dataframe\">\n",
       "  <thead>\n",
       "    <tr style=\"text-align: right;\">\n",
       "      <th></th>\n",
       "      <th>c_NEWS_score</th>\n",
       "      <th>Not c_NEWS_score</th>\n",
       "    </tr>\n",
       "  </thead>\n",
       "  <tbody>\n",
       "    <tr>\n",
       "      <th>CriticalEvent</th>\n",
       "      <td>1423</td>\n",
       "      <td>7403</td>\n",
       "    </tr>\n",
       "    <tr>\n",
       "      <th>Not CriticalEvent</th>\n",
       "      <td>932</td>\n",
       "      <td>114585</td>\n",
       "    </tr>\n",
       "  </tbody>\n",
       "</table>\n",
       "</div>"
      ],
      "text/plain": [
       "                   c_NEWS_score  Not c_NEWS_score\n",
       "CriticalEvent              1423              7403\n",
       "Not CriticalEvent           932            114585"
      ]
     },
     "metadata": {},
     "output_type": "display_data"
    },
    {
     "name": "stdout",
     "output_type": "stream",
     "text": [
      "N = 124343\n",
      "χ2 statistic:     10344\n",
      "p-value:            0.0\n",
      "Degrees of freedom: 1\n",
      "Expected frequencies:\n",
      "[[   167.16043525   8658.83956475]\n",
      " [  2187.83956475 113329.16043525]]\n"
     ]
    }
   ],
   "source": [
    "chisquarebinary(\n",
    "    (sci.c_NEWS_score >= 7), sci.CriticalEvent, condense_output=False,\n",
    ")\n",
    "\n"
   ]
  },
  {
   "cell_type": "markdown",
   "metadata": {},
   "source": [
    "### Population Comparison\n",
    "\n",
    "Patients who experienced critical events were older (71.72 ± 16.85 years; Welch's unequal variances t-test p < 0.0001) and had higher NEWS (3.51 ± 3.1; Mann-Whitney U test p < 0.0001) compared to patients who did not (mean age 64.5 ± 20.62 years; NEWS 1.04 ± 1.4). \n",
    "\n",
    "The mean total LOS was 16.32 ± 24.25 for patients who experiences critical events and 6.07 ± 13.62 for those who did not (Mann-Whitney U test p < 0.0001)."
   ]
  },
  {
   "cell_type": "code",
   "execution_count": 24,
   "metadata": {},
   "outputs": [
    {
     "data": {
      "text/html": [
       "<div>\n",
       "<style scoped>\n",
       "    .dataframe tbody tr th:only-of-type {\n",
       "        vertical-align: middle;\n",
       "    }\n",
       "\n",
       "    .dataframe tbody tr th {\n",
       "        vertical-align: top;\n",
       "    }\n",
       "\n",
       "    .dataframe thead th {\n",
       "        text-align: right;\n",
       "    }\n",
       "</style>\n",
       "<table border=\"1\" class=\"dataframe\">\n",
       "  <thead>\n",
       "    <tr style=\"text-align: right;\">\n",
       "      <th></th>\n",
       "      <th>Variable</th>\n",
       "      <th>n</th>\n",
       "      <th>Mean True</th>\n",
       "      <th>Mean False</th>\n",
       "      <th>Test</th>\n",
       "      <th>Statistic</th>\n",
       "      <th>P value</th>\n",
       "    </tr>\n",
       "  </thead>\n",
       "  <tbody>\n",
       "    <tr>\n",
       "      <th>0</th>\n",
       "      <td>Age</td>\n",
       "      <td>124343</td>\n",
       "      <td>66.12 ± 19.0</td>\n",
       "      <td>65.0 ± 20.47</td>\n",
       "      <td>Welch</td>\n",
       "      <td>1.772548</td>\n",
       "      <td>0.076633</td>\n",
       "    </tr>\n",
       "    <tr>\n",
       "      <th>1</th>\n",
       "      <td>c_NEWS_score</td>\n",
       "      <td>124343</td>\n",
       "      <td>5.11 ± 4.08</td>\n",
       "      <td>1.19 ± 1.64</td>\n",
       "      <td>Mann</td>\n",
       "      <td>91619934.5</td>\n",
       "      <td>0.0</td>\n",
       "    </tr>\n",
       "    <tr>\n",
       "      <th>2</th>\n",
       "      <td>TotalLOS</td>\n",
       "      <td>124343</td>\n",
       "      <td>6.26 ± 11.77</td>\n",
       "      <td>6.8 ± 14.89</td>\n",
       "      <td>Mann</td>\n",
       "      <td>54052722.0</td>\n",
       "      <td>0.057513</td>\n",
       "    </tr>\n",
       "  </tbody>\n",
       "</table>\n",
       "</div>"
      ],
      "text/plain": [
       "       Variable       n     Mean True    Mean False   Test   Statistic  \\\n",
       "0           Age  124343  66.12 ± 19.0  65.0 ± 20.47  Welch    1.772548   \n",
       "1  c_NEWS_score  124343   5.11 ± 4.08   1.19 ± 1.64   Mann  91619934.5   \n",
       "2      TotalLOS  124343  6.26 ± 11.77   6.8 ± 14.89   Mann  54052722.0   \n",
       "\n",
       "    P value  \n",
       "0  0.076633  \n",
       "1       0.0  \n",
       "2  0.057513  "
      ]
     },
     "execution_count": 24,
     "metadata": {},
     "output_type": "execute_result"
    }
   ],
   "source": [
    "stats_tests_on_outcome(sci, \"CriticalEventWithin24h\", news_components=False)\n",
    "\n"
   ]
  },
  {
   "cell_type": "code",
   "execution_count": 25,
   "metadata": {},
   "outputs": [
    {
     "data": {
      "text/html": [
       "<div>\n",
       "<style scoped>\n",
       "    .dataframe tbody tr th:only-of-type {\n",
       "        vertical-align: middle;\n",
       "    }\n",
       "\n",
       "    .dataframe tbody tr th {\n",
       "        vertical-align: top;\n",
       "    }\n",
       "\n",
       "    .dataframe thead th {\n",
       "        text-align: right;\n",
       "    }\n",
       "</style>\n",
       "<table border=\"1\" class=\"dataframe\">\n",
       "  <thead>\n",
       "    <tr style=\"text-align: right;\">\n",
       "      <th></th>\n",
       "      <th>Variable</th>\n",
       "      <th>n</th>\n",
       "      <th>Mean True</th>\n",
       "      <th>Mean False</th>\n",
       "      <th>Test</th>\n",
       "      <th>Statistic</th>\n",
       "      <th>P value</th>\n",
       "    </tr>\n",
       "  </thead>\n",
       "  <tbody>\n",
       "    <tr>\n",
       "      <th>0</th>\n",
       "      <td>Age</td>\n",
       "      <td>124343</td>\n",
       "      <td>66.5 ± 18.81</td>\n",
       "      <td>64.98 ± 20.48</td>\n",
       "      <td>Welch</td>\n",
       "      <td>3.598662</td>\n",
       "      <td>0.000327</td>\n",
       "    </tr>\n",
       "    <tr>\n",
       "      <th>1</th>\n",
       "      <td>c_NEWS_score</td>\n",
       "      <td>124343</td>\n",
       "      <td>4.61 ± 3.76</td>\n",
       "      <td>1.16 ± 1.59</td>\n",
       "      <td>Mann</td>\n",
       "      <td>199472340.0</td>\n",
       "      <td>0.0</td>\n",
       "    </tr>\n",
       "    <tr>\n",
       "      <th>2</th>\n",
       "      <td>TotalLOS</td>\n",
       "      <td>124343</td>\n",
       "      <td>6.38 ± 10.76</td>\n",
       "      <td>6.81 ± 14.92</td>\n",
       "      <td>Mann</td>\n",
       "      <td>133423754.5</td>\n",
       "      <td>0.0</td>\n",
       "    </tr>\n",
       "  </tbody>\n",
       "</table>\n",
       "</div>"
      ],
      "text/plain": [
       "       Variable       n     Mean True     Mean False   Test    Statistic  \\\n",
       "0           Age  124343  66.5 ± 18.81  64.98 ± 20.48  Welch     3.598662   \n",
       "1  c_NEWS_score  124343   4.61 ± 3.76    1.16 ± 1.59   Mann  199472340.0   \n",
       "2      TotalLOS  124343  6.38 ± 10.76   6.81 ± 14.92   Mann  133423754.5   \n",
       "\n",
       "    P value  \n",
       "0  0.000327  \n",
       "1       0.0  \n",
       "2       0.0  "
      ]
     },
     "execution_count": 25,
     "metadata": {},
     "output_type": "execute_result"
    }
   ],
   "source": [
    "stats_tests_on_outcome(sci, \"CriticalEventWithin48h\", news_components=False)\n"
   ]
  },
  {
   "cell_type": "code",
   "execution_count": 26,
   "metadata": {},
   "outputs": [
    {
     "data": {
      "text/html": [
       "<div>\n",
       "<style scoped>\n",
       "    .dataframe tbody tr th:only-of-type {\n",
       "        vertical-align: middle;\n",
       "    }\n",
       "\n",
       "    .dataframe tbody tr th {\n",
       "        vertical-align: top;\n",
       "    }\n",
       "\n",
       "    .dataframe thead th {\n",
       "        text-align: right;\n",
       "    }\n",
       "</style>\n",
       "<table border=\"1\" class=\"dataframe\">\n",
       "  <thead>\n",
       "    <tr style=\"text-align: right;\">\n",
       "      <th></th>\n",
       "      <th>Variable</th>\n",
       "      <th>n</th>\n",
       "      <th>Mean True</th>\n",
       "      <th>Mean False</th>\n",
       "      <th>Test</th>\n",
       "      <th>Statistic</th>\n",
       "      <th>P value</th>\n",
       "    </tr>\n",
       "  </thead>\n",
       "  <tbody>\n",
       "    <tr>\n",
       "      <th>0</th>\n",
       "      <td>Age</td>\n",
       "      <td>124343</td>\n",
       "      <td>71.72 ± 16.85</td>\n",
       "      <td>64.5 ± 20.62</td>\n",
       "      <td>Welch</td>\n",
       "      <td>38.170609</td>\n",
       "      <td>0.0</td>\n",
       "    </tr>\n",
       "    <tr>\n",
       "      <th>1</th>\n",
       "      <td>c_NEWS_score</td>\n",
       "      <td>124343</td>\n",
       "      <td>3.51 ± 3.1</td>\n",
       "      <td>1.04 ± 1.4</td>\n",
       "      <td>Mann</td>\n",
       "      <td>784214337.5</td>\n",
       "      <td>0.0</td>\n",
       "    </tr>\n",
       "    <tr>\n",
       "      <th>2</th>\n",
       "      <td>TotalLOS</td>\n",
       "      <td>124343</td>\n",
       "      <td>16.32 ± 24.25</td>\n",
       "      <td>6.07 ± 13.62</td>\n",
       "      <td>Mann</td>\n",
       "      <td>784876248.5</td>\n",
       "      <td>0.0</td>\n",
       "    </tr>\n",
       "  </tbody>\n",
       "</table>\n",
       "</div>"
      ],
      "text/plain": [
       "       Variable       n      Mean True    Mean False   Test    Statistic  \\\n",
       "0           Age  124343  71.72 ± 16.85  64.5 ± 20.62  Welch    38.170609   \n",
       "1  c_NEWS_score  124343     3.51 ± 3.1    1.04 ± 1.4   Mann  784214337.5   \n",
       "2      TotalLOS  124343  16.32 ± 24.25  6.07 ± 13.62   Mann  784876248.5   \n",
       "\n",
       "  P value  \n",
       "0     0.0  \n",
       "1     0.0  \n",
       "2     0.0  "
      ]
     },
     "execution_count": 26,
     "metadata": {},
     "output_type": "execute_result"
    }
   ],
   "source": [
    "stats_tests_on_outcome(sci, \"CriticalEvent\", news_components=False)\n",
    "\n"
   ]
  },
  {
   "cell_type": "markdown",
   "metadata": {},
   "source": [
    "### Mortality"
   ]
  },
  {
   "cell_type": "code",
   "execution_count": 27,
   "metadata": {},
   "outputs": [
    {
     "name": "stdout",
     "output_type": "stream",
     "text": [
      "Proportion of occurrences with NEWS >= 7:\n",
      "24h: 222/358 = 62.01%\n",
      "48h: 401/784 = 51.15%\n",
      "Any: 995/5328 = 18.67%\n"
     ]
    }
   ],
   "source": [
    "summarise_highnews(\n",
    "    sci,\n",
    "    {\"24h\": sci.DiedWithin24h, \"48h\": sci.DiedWithin48h, \"Any\": sci.DiedDuringStay,},\n",
    ")\n",
    "\n"
   ]
  },
  {
   "cell_type": "code",
   "execution_count": 28,
   "metadata": {},
   "outputs": [
    {
     "name": "stdout",
     "output_type": "stream",
     "text": [
      "χ^2 (1, N=124343) = 6951, p=0.0\n",
      "χ^2 (1, N=124343) = 10274, p=0.0\n",
      "χ^2 (1, N=124343) = 8426.9, p=0.0\n"
     ]
    }
   ],
   "source": [
    "# 24 hours, 48 hours, all\n",
    "chisquarebinary(\n",
    "    (sci.c_NEWS_score >= 7), sci.DiedWithin24h, condense_output=True,\n",
    ")\n",
    "chisquarebinary(\n",
    "    (sci.c_NEWS_score >= 7), sci.DiedWithin48h, condense_output=True,\n",
    ")\n",
    "chisquarebinary(\n",
    "    (sci.c_NEWS_score >= 7), sci.DiedDuringStay, condense_output=True,\n",
    ")\n",
    "\n"
   ]
  },
  {
   "cell_type": "markdown",
   "metadata": {},
   "source": [
    "### Critical Care"
   ]
  },
  {
   "cell_type": "code",
   "execution_count": 29,
   "metadata": {},
   "outputs": [
    {
     "name": "stdout",
     "output_type": "stream",
     "text": [
      "Proportion of occurrences with NEWS >= 7:\n",
      "24h: 109/597 = 18.26%\n",
      "48h: 219/1353 = 16.19%\n",
      "Any: 662/4384 = 15.1%\n"
     ]
    }
   ],
   "source": [
    "summarise_highnews(\n",
    "    sci,\n",
    "    {\n",
    "        \"24h\": sci.CriticalCareWithin24h,\n",
    "        \"48h\": sci.CriticalCareWithin48h,\n",
    "        \"Any\": sci.CriticalCare,\n",
    "    },\n",
    ")\n",
    "\n"
   ]
  },
  {
   "cell_type": "code",
   "execution_count": 30,
   "metadata": {},
   "outputs": [
    {
     "name": "stdout",
     "output_type": "stream",
     "text": [
      "χ^2 (1, N=124343) = 855.7, p=4.192603293193232e-188\n",
      "χ^2 (1, N=124343) = 1496, p=0.0\n",
      "χ^2 (1, N=124343) = 4258.1, p=0.0\n"
     ]
    }
   ],
   "source": [
    "# 24 hours, 48 hours, all\n",
    "chisquarebinary(\n",
    "    (sci.c_NEWS_score >= 7), sci.CriticalCareWithin24h, condense_output=True,\n",
    ")\n",
    "chisquarebinary(\n",
    "    (sci.c_NEWS_score >= 7), sci.CriticalCareWithin48h, condense_output=True,\n",
    ")\n",
    "chisquarebinary(\n",
    "    (sci.c_NEWS_score >= 7), sci.CriticalCare, condense_output=True,\n",
    ")\n",
    "\n"
   ]
  },
  {
   "cell_type": "markdown",
   "metadata": {},
   "source": [
    "## Readmission"
   ]
  },
  {
   "cell_type": "code",
   "execution_count": 31,
   "metadata": {},
   "outputs": [
    {
     "name": "stdout",
     "output_type": "stream",
     "text": [
      "Proportion of occurrences with NEWS >= 7:\n",
      "2 days: 21/1462 = 1.44%\n",
      "7 days: 43/4546 = 0.95%\n",
      "30 days: 196/15859 = 1.24%\n"
     ]
    }
   ],
   "source": [
    "summarise_highnews(\n",
    "    sci,\n",
    "    {\n",
    "        \"2 days\": sci.Readmitted & (sci.ReadmittedTimespan <= pd.Timedelta(days=2)),\n",
    "        \"7 days\": sci.Readmitted & (sci.ReadmittedTimespan <= pd.Timedelta(days=7)),\n",
    "        \"30 days\": sci.Readmitted & (sci.ReadmittedTimespan <= pd.Timedelta(days=30)),\n",
    "    },\n",
    ")\n",
    "\n"
   ]
  },
  {
   "cell_type": "code",
   "execution_count": 32,
   "metadata": {},
   "outputs": [
    {
     "name": "stdout",
     "output_type": "stream",
     "text": [
      "AUC  Readmission within 2 days: 0.489 (0.474-0.503)\n",
      "AUC  Readmission within 7 days: 0.485 (0.477-0.494)\n",
      "AUC  Readmission within 30 days: 0.52 (0.515-0.525)\n"
     ]
    },
    {
     "data": {
      "image/png": "[encoded data removed]",
      "text/plain": [
       "<Figure size 1800x600 with 3 Axes>"
      ]
     },
     "metadata": {},
     "output_type": "display_data"
    }
   ],
   "source": [
    "multiplot_news_roc_by_series(\n",
    "    sci,\n",
    "    {\n",
    "        \"Readmission within 2 days\": sci.Readmitted\n",
    "        & (sci.ReadmittedTimespan <= pd.Timedelta(days=2)),\n",
    "        \"Readmission within 7 days\": sci.Readmitted\n",
    "        & (sci.ReadmittedTimespan <= pd.Timedelta(days=7)),\n",
    "        \"Readmission within 30 days\": sci.Readmitted\n",
    "        & (sci.ReadmittedTimespan <= pd.Timedelta(days=30)),\n",
    "    },\n",
    ")\n"
   ]
  },
  {
   "cell_type": "code",
   "execution_count": 33,
   "metadata": {},
   "outputs": [
    {
     "name": "stdout",
     "output_type": "stream",
     "text": [
      "χ^2 (1, N=65015) = 0.43611, p=0.509005634883033\n",
      "χ^2 (1, N=65015) = 2.7151, p=0.09940398264140986\n",
      "χ^2 (1, N=65015) = 0.054341, p=0.8156752669942511\n"
     ]
    }
   ],
   "source": [
    "# 24 hours, 48 hours, all\n",
    "chisquarebinary(\n",
    "    (sci.c_NEWS_score >= 7),\n",
    "    sci.Readmitted & (sci.ReadmittedTimespan <= pd.Timedelta(days=2)),\n",
    "    sci.Readmitted.notna(),\n",
    "    condense_output=True,\n",
    ")\n",
    "chisquarebinary(\n",
    "    (sci.c_NEWS_score >= 7),\n",
    "    sci.Readmitted & (sci.ReadmittedTimespan <= pd.Timedelta(days=7)),\n",
    "    sci.Readmitted.notna(),\n",
    "    condense_output=True,\n",
    ")\n",
    "chisquarebinary(\n",
    "    (sci.c_NEWS_score >= 7),\n",
    "    sci.Readmitted & (sci.ReadmittedTimespan <= pd.Timedelta(days=30)),\n",
    "    sci.Readmitted.notna(),\n",
    "    condense_output=True,\n",
    ")\n",
    "\n"
   ]
  },
  {
   "cell_type": "markdown",
   "metadata": {},
   "source": [
    "## LOS"
   ]
  },
  {
   "cell_type": "code",
   "execution_count": 34,
   "metadata": {},
   "outputs": [
    {
     "name": "stdout",
     "output_type": "stream",
     "text": [
      "Proportion of occurrences with NEWS >= 7:\n",
      "24h: 2037/81488 = 2.5%\n",
      "48h: 1786/65600 = 2.72%\n",
      "7 days: 1030/31702 = 3.25%\n"
     ]
    }
   ],
   "source": [
    "summarise_highnews(\n",
    "    sci,\n",
    "    {\n",
    "        \"24h\": (sci.TotalLOS >= 1),\n",
    "        \"48h\": (sci.TotalLOS >= 2),\n",
    "        \"7 days\": (sci.TotalLOS >= 7),\n",
    "    },\n",
    ")\n",
    "\n"
   ]
  },
  {
   "cell_type": "code",
   "execution_count": 35,
   "metadata": {},
   "outputs": [
    {
     "name": "stdout",
     "output_type": "stream",
     "text": [
      "AUC  LOS over 24h: 0.602 (0.598-0.605)\n",
      "AUC  LOS over 48h: 0.607 (0.604-0.61)\n",
      "AUC  LOS over 7 days: 0.598 (0.594-0.602)\n"
     ]
    },
    {
     "data": {
      "image/png": "[encoded data removed]",
      "text/plain": [
       "<Figure size 1800x600 with 3 Axes>"
      ]
     },
     "metadata": {},
     "output_type": "display_data"
    }
   ],
   "source": [
    "multiplot_news_roc_by_series(\n",
    "    sci,\n",
    "    {\n",
    "        \"LOS over 24h\": sci.TotalLOS >= 1,\n",
    "        \"LOS over 48h\": sci.TotalLOS >= 2,\n",
    "        \"LOS over 7 days\": sci.TotalLOS >= 7,\n",
    "    },\n",
    "    save=\"images/los_roc.png\",\n",
    ")\n",
    "\n"
   ]
  },
  {
   "cell_type": "code",
   "execution_count": 36,
   "metadata": {},
   "outputs": [
    {
     "name": "stdout",
     "output_type": "stream",
     "text": [
      "χ^2 (1, N=124343) = 466.04, p=2.3267505029193576e-103\n",
      "χ^2 (1, N=124343) = 512.15, p=2.155186902219107e-113\n",
      "χ^2 (1, N=124343) = 419.51, p=3.123686572067687e-93\n"
     ]
    }
   ],
   "source": [
    "# 24 hours, 48 hours, 7 days\n",
    "chisquarebinary(\n",
    "    (sci.c_NEWS_score >= 7), sci.TotalLOS >= 1, condense_output=True,\n",
    ")\n",
    "chisquarebinary(\n",
    "    (sci.c_NEWS_score >= 7), sci.TotalLOS >= 2, condense_output=True,\n",
    ")\n",
    "chisquarebinary(\n",
    "    (sci.c_NEWS_score >= 7), sci.TotalLOS >= 7, condense_output=True,\n",
    ")\n"
   ]
  },
  {
   "cell_type": "code",
   "execution_count": 37,
   "metadata": {},
   "outputs": [
    {
     "name": "stdout",
     "output_type": "stream",
     "text": [
      "χ^2 (1, N=124343) = 1440.1, p=0.0\n",
      "χ^2 (1, N=124343) = 1751.4, p=0.0\n",
      "χ^2 (1, N=124343) = 1387, p=1.3948104943917297e-303\n"
     ]
    }
   ],
   "source": [
    "# 24 hours, 48 hours, 7 days\n",
    "chisquarebinary(\n",
    "    (sci.c_NEWS_score >= 5), sci.TotalLOS >= 1, sci.TotalLOS > 0, condense_output=True,\n",
    ")\n",
    "chisquarebinary(\n",
    "    (sci.c_NEWS_score >= 5), sci.TotalLOS >= 2, sci.TotalLOS > 0, condense_output=True,\n",
    ")\n",
    "chisquarebinary(\n",
    "    (sci.c_NEWS_score >= 5), sci.TotalLOS >= 7, sci.TotalLOS > 0, condense_output=True,\n",
    ")\n"
   ]
  },
  {
   "cell_type": "code",
   "execution_count": 38,
   "metadata": {},
   "outputs": [
    {
     "data": {
      "text/plain": [
       "SpearmanrResult(correlation=0.2105968423291092, pvalue=0.0)"
      ]
     },
     "execution_count": 38,
     "metadata": {},
     "output_type": "execute_result"
    }
   ],
   "source": [
    "mask = sci.TotalLOS > 0\n",
    "st.spearmanr(sci[mask].c_NEWS_score, sci[mask].TotalLOS)\n"
   ]
  },
  {
   "cell_type": "code",
   "execution_count": 39,
   "metadata": {},
   "outputs": [
    {
     "name": "stdout",
     "output_type": "stream",
     "text": [
      "Median length of stay for scores under 7: 2.20625\n",
      "Median length of stay for scores >= 7: 5.8972222\n"
     ]
    }
   ],
   "source": [
    "print(\n",
    "    f\"Median length of stay for scores under 7: {sci[(sci.c_NEWS_score < 7) & mask].TotalLOS.median()}\"\n",
    ")\n",
    "print(\n",
    "    f\"Median length of stay for scores >= 7: {sci[(sci.c_NEWS_score >= 7) & mask].TotalLOS.median()}\"\n",
    ")\n"
   ]
  },
  {
   "cell_type": "markdown",
   "metadata": {},
   "source": [
    "## 30-Day Mortality"
   ]
  },
  {
   "cell_type": "code",
   "execution_count": 40,
   "metadata": {},
   "outputs": [
    {
     "name": "stdout",
     "output_type": "stream",
     "text": [
      "Proportion of occurrences with NEWS >= 7:\n",
      "24h: 17/462 = 3.68%\n",
      "48h: 29/768 = 3.78%\n",
      "Any: 175/4090 = 4.28%\n"
     ]
    }
   ],
   "source": [
    "summarise_highnews(\n",
    "    sci,\n",
    "    {\n",
    "        \"24h\": (sci.TotalLOS <= 1) & sci.DiedWithin30Days,\n",
    "        \"48h\": (sci.TotalLOS <= 2) & sci.DiedWithin30Days,\n",
    "        \"Any\": sci.DiedWithin30Days,\n",
    "    },\n",
    ")\n",
    "\n"
   ]
  },
  {
   "cell_type": "code",
   "execution_count": 41,
   "metadata": {},
   "outputs": [
    {
     "data": {
      "image/png": "[encoded data removed]",
      "text/plain": [
       "<Figure size 1800x600 with 3 Axes>"
      ]
     },
     "metadata": {},
     "output_type": "display_data"
    }
   ],
   "source": [
    "multiplot_news_roc_with_masks(\n",
    "    sci,\n",
    "    {\n",
    "        \"Mortality within 24h\": (sci.TotalLOS <= 1),\n",
    "        \"Mortality within 48h\": (sci.TotalLOS <= 2),\n",
    "        \"Mortality at any point\": sci.TotalLOS > 0,\n",
    "    },\n",
    "    {'':\"DiedWithin30Days\"},\n",
    "    save=\"images/30daymortality_roc.png\",\n",
    ")\n",
    "\n"
   ]
  },
  {
   "cell_type": "code",
   "execution_count": 42,
   "metadata": {},
   "outputs": [
    {
     "name": "stdout",
     "output_type": "stream",
     "text": [
      "χ^2 (1, N=42873) = 50.553, p=1.1597230706808926e-12\n",
      "χ^2 (1, N=58760) = 61.037, p=5.601400838086637e-15\n",
      "χ^2 (1, N=124343) = 128.12, p=1.0570706182393802e-29\n"
     ]
    }
   ],
   "source": [
    "# 24 hours, 48 hours, all\n",
    "chisquarebinary(\n",
    "    (sci.c_NEWS_score >= 7),\n",
    "    sci.DiedWithin30Days,\n",
    "    (sci.TotalLOS <= 1),\n",
    "    condense_output=True,\n",
    ")\n",
    "chisquarebinary(\n",
    "    (sci.c_NEWS_score >= 7),\n",
    "    sci.DiedWithin30Days,\n",
    "    (sci.TotalLOS <= 2),\n",
    "    condense_output=True,\n",
    ")\n",
    "chisquarebinary(\n",
    "    (sci.c_NEWS_score >= 7),\n",
    "    sci.DiedWithin30Days,\n",
    "    sci.TotalLOS > 0,\n",
    "    condense_output=True,\n",
    ")\n",
    "\n"
   ]
  },
  {
   "cell_type": "code",
   "execution_count": 43,
   "metadata": {},
   "outputs": [
    {
     "name": "stdout",
     "output_type": "stream",
     "text": [
      "Table of counts:\n"
     ]
    },
    {
     "data": {
      "text/html": [
       "<div>\n",
       "<style scoped>\n",
       "    .dataframe tbody tr th:only-of-type {\n",
       "        vertical-align: middle;\n",
       "    }\n",
       "\n",
       "    .dataframe tbody tr th {\n",
       "        vertical-align: top;\n",
       "    }\n",
       "\n",
       "    .dataframe thead th {\n",
       "        text-align: right;\n",
       "    }\n",
       "</style>\n",
       "<table border=\"1\" class=\"dataframe\">\n",
       "  <thead>\n",
       "    <tr style=\"text-align: right;\">\n",
       "      <th></th>\n",
       "      <th>c_NEWS_score</th>\n",
       "      <th>Not c_NEWS_score</th>\n",
       "    </tr>\n",
       "  </thead>\n",
       "  <tbody>\n",
       "    <tr>\n",
       "      <th>DiedWithin30Days</th>\n",
       "      <td>175</td>\n",
       "      <td>3915</td>\n",
       "    </tr>\n",
       "    <tr>\n",
       "      <th>Not DiedWithin30Days</th>\n",
       "      <td>2180</td>\n",
       "      <td>118073</td>\n",
       "    </tr>\n",
       "  </tbody>\n",
       "</table>\n",
       "</div>"
      ],
      "text/plain": [
       "                      c_NEWS_score  Not c_NEWS_score\n",
       "DiedWithin30Days               175              3915\n",
       "Not DiedWithin30Days          2180            118073"
      ]
     },
     "metadata": {},
     "output_type": "display_data"
    },
    {
     "name": "stdout",
     "output_type": "stream",
     "text": [
      "N = 124343\n",
      "χ2 statistic:     128.12\n",
      "p-value:            1.0570706182393802e-29\n",
      "Degrees of freedom: 1\n",
      "Expected frequencies:\n",
      "[[7.74627442e+01 4.01253726e+03]\n",
      " [2.27753726e+03 1.17975463e+05]]\n"
     ]
    }
   ],
   "source": [
    "chisquarebinary(\n",
    "    (sci.c_NEWS_score >= 7),\n",
    "    sci.DiedWithin30Days,\n",
    "    sci.TotalLOS > 0,\n",
    "    condense_output=False,\n",
    ")\n",
    "\n"
   ]
  },
  {
   "cell_type": "code",
   "execution_count": 44,
   "metadata": {},
   "outputs": [
    {
     "data": {
      "text/html": [
       "<div>\n",
       "<style scoped>\n",
       "    .dataframe tbody tr th:only-of-type {\n",
       "        vertical-align: middle;\n",
       "    }\n",
       "\n",
       "    .dataframe tbody tr th {\n",
       "        vertical-align: top;\n",
       "    }\n",
       "\n",
       "    .dataframe thead th {\n",
       "        text-align: right;\n",
       "    }\n",
       "</style>\n",
       "<table border=\"1\" class=\"dataframe\">\n",
       "  <thead>\n",
       "    <tr style=\"text-align: right;\">\n",
       "      <th></th>\n",
       "      <th>Variable</th>\n",
       "      <th>n</th>\n",
       "      <th>Mean True</th>\n",
       "      <th>Mean False</th>\n",
       "      <th>Test</th>\n",
       "      <th>Statistic</th>\n",
       "      <th>P value</th>\n",
       "    </tr>\n",
       "  </thead>\n",
       "  <tbody>\n",
       "    <tr>\n",
       "      <th>0</th>\n",
       "      <td>Age</td>\n",
       "      <td>124343</td>\n",
       "      <td>77.05 ± 13.14</td>\n",
       "      <td>64.6 ± 20.54</td>\n",
       "      <td>Welch</td>\n",
       "      <td>58.236892</td>\n",
       "      <td>0.0</td>\n",
       "    </tr>\n",
       "    <tr>\n",
       "      <th>1</th>\n",
       "      <td>c_NEWS_score</td>\n",
       "      <td>124343</td>\n",
       "      <td>2.0 ± 2.11</td>\n",
       "      <td>1.19 ± 1.68</td>\n",
       "      <td>Mann</td>\n",
       "      <td>309388860.5</td>\n",
       "      <td>0.0</td>\n",
       "    </tr>\n",
       "    <tr>\n",
       "      <th>2</th>\n",
       "      <td>TotalLOS</td>\n",
       "      <td>124343</td>\n",
       "      <td>13.49 ± 18.99</td>\n",
       "      <td>6.57 ± 14.65</td>\n",
       "      <td>Mann</td>\n",
       "      <td>346774820.5</td>\n",
       "      <td>0.0</td>\n",
       "    </tr>\n",
       "  </tbody>\n",
       "</table>\n",
       "</div>"
      ],
      "text/plain": [
       "       Variable       n      Mean True    Mean False   Test    Statistic  \\\n",
       "0           Age  124343  77.05 ± 13.14  64.6 ± 20.54  Welch    58.236892   \n",
       "1  c_NEWS_score  124343     2.0 ± 2.11   1.19 ± 1.68   Mann  309388860.5   \n",
       "2      TotalLOS  124343  13.49 ± 18.99  6.57 ± 14.65   Mann  346774820.5   \n",
       "\n",
       "  P value  \n",
       "0     0.0  \n",
       "1     0.0  \n",
       "2     0.0  "
      ]
     },
     "execution_count": 44,
     "metadata": {},
     "output_type": "execute_result"
    }
   ],
   "source": [
    "stats_tests_on_outcome(sci, \"DiedWithin30Days\", news_components=False)\n",
    "\n"
   ]
  }
 ],
 "metadata": {
  "kernelspec": {
   "display_name": "Python 3.9.12 ('py39')",
   "language": "python",
   "name": "python3"
  },
  "language_info": {
   "codemirror_mode": {
    "name": "ipython",
    "version": 3
   },
   "file_extension": ".py",
   "mimetype": "text/x-python",
   "name": "python",
   "nbconvert_exporter": "python",
   "pygments_lexer": "ipython3",
   "version": "3.9.12"
  },
  "orig_nbformat": 4,
  "vscode": {
   "interpreter": {
    "hash": "3e35166262197b1ea9223463adaf11f6b58d81a82b7650a41ad4f3574b9c5682"
   }
  }
 },
 "nbformat": 4,
 "nbformat_minor": 2
}
