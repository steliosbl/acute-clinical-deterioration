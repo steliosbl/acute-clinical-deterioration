{
 "cells": [
  {
   "cell_type": "markdown",
   "metadata": {},
   "source": [
    "# ACP Project - Model Evaluation"
   ]
  },
  {
   "cell_type": "markdown",
   "metadata": {},
   "source": [
    "## Setup"
   ]
  },
  {
   "cell_type": "code",
   "execution_count": 2,
   "metadata": {},
   "outputs": [],
   "source": [
    "import warnings, pickle, os\n",
    "import numpy as np\n",
    "import pandas as pd\n",
    "pd.set_option(\"display.max_columns\", None)\n",
    "pd.set_option(\"display.max_rows\", 300)\n",
    "\n",
    "from IPython.display import display\n",
    "import matplotlib.pyplot as plt\n",
    "\n",
    "import seaborn as sns\n",
    "sns.set(rc={'figure.figsize':(10,10)})\n",
    "\n",
    "import shap\n",
    "import optuna\n",
    "\n",
    "%load_ext autoreload\n",
    "%autoreload 1"
   ]
  },
  {
   "cell_type": "code",
   "execution_count": 3,
   "metadata": {},
   "outputs": [],
   "source": [
    "from dataset import SCIData, SCICols\n",
    "%aimport utils.evaluation, dataset"
   ]
  },
  {
   "cell_type": "code",
   "execution_count": 4,
   "metadata": {},
   "outputs": [],
   "source": [
    "from sklearn.model_selection import train_test_split\n",
    "\n",
    "sci = (\n",
    "    SCIData(SCIData.quickload(\"data/sci_processed.h5\").sort_values(\"AdmissionDateTime\"))\n",
    "    .mandate(SCICols.news_data_raw)\n",
    "    .omit_ae()\n",
    ")\n",
    "\n",
    "scii = (\n",
    "    sci.derive_critical_event(within=1, return_subcols=True)\n",
    "    .augment_shmi(onehot=False)\n",
    "    #.omit_redundant()\n",
    "    .raw_news()\n",
    " #   .categorize()\n",
    "   # .onehot_encode_categories()\n",
    ")\n",
    "\n",
    "sci_train, sci_test, _, y_test_mortality, _, y_test_criticalcare = train_test_split(\n",
    "    scii,\n",
    "    scii.DiedWithinThreshold,\n",
    "    scii.CriticalCare,\n",
    "    test_size=0.33,\n",
    "    random_state=42,\n",
    "    shuffle=False,\n",
    ")\n",
    "sci_train, sci_test = SCIData(sci_train), SCIData(sci_test)"
   ]
  },
  {
   "cell_type": "markdown",
   "metadata": {},
   "source": [
    "## Population"
   ]
  },
  {
   "cell_type": "code",
   "execution_count": 5,
   "metadata": {},
   "outputs": [
    {
     "data": {
      "text/html": [
       "<div>\n",
       "<style scoped>\n",
       "    .dataframe tbody tr th:only-of-type {\n",
       "        vertical-align: middle;\n",
       "    }\n",
       "\n",
       "    .dataframe tbody tr th {\n",
       "        vertical-align: top;\n",
       "    }\n",
       "\n",
       "    .dataframe thead th {\n",
       "        text-align: right;\n",
       "    }\n",
       "</style>\n",
       "<table border=\"1\" class=\"dataframe\">\n",
       "  <thead>\n",
       "    <tr style=\"text-align: right;\">\n",
       "      <th>Subset</th>\n",
       "      <th>Total</th>\n",
       "      <th>Training Set</th>\n",
       "      <th>Testing Set</th>\n",
       "    </tr>\n",
       "  </thead>\n",
       "  <tbody>\n",
       "    <tr>\n",
       "      <th>Records</th>\n",
       "      <td>121321</td>\n",
       "      <td>81285</td>\n",
       "      <td>40036</td>\n",
       "    </tr>\n",
       "    <tr>\n",
       "      <th>Patients</th>\n",
       "      <td>62211</td>\n",
       "      <td>44789</td>\n",
       "      <td>25579</td>\n",
       "    </tr>\n",
       "    <tr>\n",
       "      <th>CriticalEvents</th>\n",
       "      <td>3114</td>\n",
       "      <td>2182</td>\n",
       "      <td>932</td>\n",
       "    </tr>\n",
       "    <tr>\n",
       "      <th>Deaths</th>\n",
       "      <td>342</td>\n",
       "      <td>224</td>\n",
       "      <td>118</td>\n",
       "    </tr>\n",
       "    <tr>\n",
       "      <th>CriticalCare</th>\n",
       "      <td>2814</td>\n",
       "      <td>1986</td>\n",
       "      <td>828</td>\n",
       "    </tr>\n",
       "    <tr>\n",
       "      <th>Readmissions</th>\n",
       "      <td>15438</td>\n",
       "      <td>10764</td>\n",
       "      <td>4674</td>\n",
       "    </tr>\n",
       "  </tbody>\n",
       "</table>\n",
       "</div>"
      ],
      "text/plain": [
       "Subset           Total  Training Set  Testing Set\n",
       "Records         121321         81285        40036\n",
       "Patients         62211         44789        25579\n",
       "CriticalEvents    3114          2182          932\n",
       "Deaths             342           224          118\n",
       "CriticalCare      2814          1986          828\n",
       "Readmissions     15438         10764         4674"
      ]
     },
     "execution_count": 5,
     "metadata": {},
     "output_type": "execute_result"
    }
   ],
   "source": [
    "pd.DataFrame(\n",
    "    [\n",
    "        dict(\n",
    "            Subset=name,\n",
    "            Records=df.shape[0],\n",
    "            Patients=df.PatientNumber.unique().shape[0],\n",
    "            CriticalEvents=df.CriticalEvent.sum(),\n",
    "            Deaths=df.DiedWithinThreshold.sum(),\n",
    "            CriticalCare=df.CriticalCare.sum(),\n",
    "            Readmissions=df.Readmission.sum(),\n",
    "        )\n",
    "        for name, df in {'Total': scii, 'Training Set': sci_train, 'Testing Set': sci_test}.items()\n",
    "    ]\n",
    ").set_index('Subset').T"
   ]
  },
  {
   "cell_type": "markdown",
   "metadata": {},
   "source": [
    "1. Data size (total, training, testing, total patients)\n",
    "2. Outcomes (critical, deaths, icu)\n",
    "3. Sex (female %), Age (median)\n",
    "4. Comorbid conditions (median #, max 7 per patient)\n",
    "5. Presence of vital signs, presence of blood test results, \n",
    "6. LOS of hospitalisation "
   ]
  },
  {
   "cell_type": "code",
   "execution_count": 6,
   "metadata": {},
   "outputs": [
    {
     "data": {
      "text/plain": [
       "True     63578\n",
       "False    57743\n",
       "Name: Female, dtype: int64"
      ]
     },
     "execution_count": 6,
     "metadata": {},
     "output_type": "execute_result"
    }
   ],
   "source": [
    "scii.Female.value_counts()"
   ]
  },
  {
   "cell_type": "code",
   "execution_count": 7,
   "metadata": {},
   "outputs": [
    {
     "data": {
      "text/plain": [
       "80 +            36894\n",
       "65 - 79         31156\n",
       "50 - 64         23267\n",
       "30 - 49         22210\n",
       "17 - 29          7757\n",
       "16 and Under       37\n",
       "Name: AgeBand, dtype: int64"
      ]
     },
     "execution_count": 7,
     "metadata": {},
     "output_type": "execute_result"
    }
   ],
   "source": [
    "scii.AgeBand.value_counts()"
   ]
  },
  {
   "cell_type": "code",
   "execution_count": 8,
   "metadata": {},
   "outputs": [
    {
     "data": {
      "text/plain": [
       "More than 72 Hrs    54207\n",
       "Less than 12 Hrs    25238\n",
       "12 - 24 Hrs         16569\n",
       "48 - 72 Hrs          9834\n",
       "24 - 36 Hrs          7950\n",
       "36 - 48 Hrs          7479\n",
       "Still In               44\n",
       "Name: LOSBand, dtype: int64"
      ]
     },
     "execution_count": 8,
     "metadata": {},
     "output_type": "execute_result"
    }
   ],
   "source": [
    "scii.LOSBand.value_counts()"
   ]
  },
  {
   "cell_type": "code",
   "execution_count": 9,
   "metadata": {},
   "outputs": [
    {
     "data": {
      "text/plain": [
       "EAU     81131\n",
       "AEC     18964\n",
       "AAA     10136\n",
       "AAAC     6132\n",
       "HH3      2925\n",
       "HH1M     2033\n",
       "Name: AdmitWard, dtype: int64"
      ]
     },
     "execution_count": 9,
     "metadata": {},
     "output_type": "execute_result"
    }
   ],
   "source": [
    "scii.AdmitWard.value_counts()"
   ]
  },
  {
   "cell_type": "code",
   "execution_count": 11,
   "metadata": {},
   "outputs": [],
   "source": [
    "sci_full = SCIData.quickload(\"data/sci.h5\")"
   ]
  },
  {
   "cell_type": "code",
   "execution_count": 34,
   "metadata": {},
   "outputs": [
    {
     "data": {
      "text/plain": [
       "SpellSerial                                                              222967_146\n",
       "PatientNumber                                                                298990\n",
       "SEQ                                                                              15\n",
       "Female                                                                         True\n",
       "Age                                                                              61\n",
       "AgeBand                                                                     50 - 64\n",
       "Area                                                                           M28 \n",
       "AdmissionDateTime                                               2020-10-14 23:18:00\n",
       "DischargeDateTime                                               2020-12-18 20:40:00\n",
       "TotalLOS                                                                  64.890278\n",
       "LOSBand                                                            More than 72 Hrs\n",
       "Over7Days                                                                      True\n",
       "Over14Days                                                                     True\n",
       "AdmittedAfterAEC                                                              False\n",
       "AdmissionMethodDescription                                            EMERGENCY A+E\n",
       "AssessmentAreaAdmission                                                        True\n",
       "AssessmentAreaDischarge                                                       False\n",
       "AdmissionSpecialty                                          ACUTE INTERNAL MEDICINE\n",
       "LastSpecialty                                                            NEPHROLOGY\n",
       "AdmitWard                                                                       EAU\n",
       "NextWard2                                                                        L7\n",
       "NextWard3                                                                        RU\n",
       "NextWard4                                                                        L7\n",
       "NextWard5                                                                        RU\n",
       "NextWard6                                                                        L7\n",
       "NextWard7                                                                        RU\n",
       "NextWard8                                                                        L7\n",
       "NextWard9                                                                       HCU\n",
       "DischargeWard                                                                   HH3\n",
       "AdmitWardLOS                                                               3.043055\n",
       "NextWard2LOS                                                               8.574305\n",
       "NextWard3LOS                                                               0.353472\n",
       "NextWard4LOS                                                               3.746528\n",
       "NextWard5LOS                                                               0.065278\n",
       "NextWard6LOS                                                               3.746528\n",
       "NextWard7LOS                                                               0.197222\n",
       "NextWard8LOS                                                                 1.1375\n",
       "NextWard9LOS                                                               2.144444\n",
       "DischargeWardLOS                                                           5.895833\n",
       "DiedDuringStay                                                                False\n",
       "DiedWithin30Days                                                              False\n",
       "AandEPresentingComplaint                                               Unwell adult\n",
       "AandEMainDiagnosis                                  referral to service (procedure)\n",
       "AandEArrivalTime                                                2020-10-14 19:30:00\n",
       "AandEDepartureTime                                              2020-10-14 23:18:00\n",
       "AandELocation                                                              Majors 2\n",
       "AandEPatientGroupDescription                                                MEDICAL\n",
       "MainICD10                                                                     U07.1\n",
       "SecDiag1                                                                      J12.8\n",
       "SecDiag2                                                                      B97.2\n",
       "SecDiag3                                                                      J18.9\n",
       "SecDiag4                                                                      F05.8\n",
       "SecDiag5                                                                      T85.6\n",
       "SecDiag6                                                                      Y83.1\n",
       "MainOPCS4                                                                     X40.6\n",
       "SecOper1                                                                      X40.6\n",
       "SecOper2                                                                      X40.6\n",
       "SecOper3                                                                      X40.6\n",
       "SecOper4                                                                      X40.6\n",
       "SecOper5                                                                      X40.6\n",
       "SecOper6                                                                      X40.6\n",
       "SpellHRG                                                                      ED31A\n",
       "HRGDesc                           Standard, Other Operations on Heart or Pericar...\n",
       "PrimarySpecialtyLocalCode                                                       AIM\n",
       "CareHome                                                                      False\n",
       "PCT                                                                             01G\n",
       "GPPractice                                                                   P87002\n",
       "Haemoglobin                                                                   100.0\n",
       "Urea_serum                                                                     16.9\n",
       "Sodium_serum                                                                  137.0\n",
       "Potassium_serum                                                                 4.0\n",
       "Creatinine                                                                    773.0\n",
       "PatientTemperatureVenous                                                       39.2\n",
       "pCO2(POC)Venous                                                                 5.6\n",
       "pCO2(Tempcorrected)(POC)Venous                                                  6.0\n",
       "PH(POC)Venous                                                                  7.43\n",
       "PH(Tempcorrected)(POC)Venous                                                    7.4\n",
       "pO2(POC)Venous                                                                  4.7\n",
       "pO2(Tempcorrected)(POC)Venous                                                   5.5\n",
       "NEWS_score                                                                      3.0\n",
       "NewsCreatedWhen                                                 2020-10-16 06:01:15\n",
       "NewsTouchedWhen                                                 2020-10-16 06:01:15\n",
       "NewsAuthoredDtm                                                 2020-10-16 06:00:00\n",
       "Respiration_rate                                                               20.0\n",
       "NEWS_resp_rate_score                                                            0.0\n",
       "AssistedBreathing                                                             False\n",
       "BreathingDevice                                                             A - Air\n",
       "NEWS_device_air_score                                                           0.0\n",
       "O2_saturation                                                                  94.0\n",
       "Oxygen_flow_rate                                                                0.0\n",
       "NEWS_O2_sat_score                                                               1.0\n",
       "Temperature                                                                    38.1\n",
       "NEWS_temperature_score                                                          1.0\n",
       "LyingDown                                                                      True\n",
       "SystolicBP                                                                    162.0\n",
       "DiastolicBP                                                                    92.0\n",
       "NEWS_BP_score                                                                   0.0\n",
       "HeartRate                                                                      99.0\n",
       "NEWS_heart_rate_score                                                           1.0\n",
       "AVCPU_Alert                                                                    True\n",
       "NEWS_level_of_con_score                                                         0.0\n",
       "Pain                                                                            0.0\n",
       "Nausea                                                                        False\n",
       "VomitingSinceLastRound                                                        False\n",
       "Name: 4437, dtype: object"
      ]
     },
     "execution_count": 34,
     "metadata": {},
     "output_type": "execute_result"
    }
   ],
   "source": [
    "sci_full[sci_full.notna().all(axis=1)].iloc[0]"
   ]
  },
  {
   "cell_type": "code",
   "execution_count": 23,
   "metadata": {},
   "outputs": [
    {
     "data": {
      "text/plain": [
       "EAU     114643\n",
       "AEC      32618\n",
       "DISL     20437\n",
       "AAA      15498\n",
       "AAAC     11355\n",
       "L6        8346\n",
       "M2        7772\n",
       "HH3       7178\n",
       "HH2       6290\n",
       "L3        6101\n",
       "L2        5985\n",
       "L4        5877\n",
       "PNDS      5040\n",
       "L5        4514\n",
       "HH1M      4112\n",
       "HCU       3772\n",
       "MA3       2794\n",
       "HH4       2406\n",
       "L8        2233\n",
       "L7        1722\n",
       "HB2       1423\n",
       "HB1       1418\n",
       "ANU       1411\n",
       "CCU       1180\n",
       "HH5       1151\n",
       "RU        1129\n",
       "B6        1056\n",
       "MIU        982\n",
       "HG         936\n",
       "B3         911\n",
       "LIME       877\n",
       "ASU        836\n",
       "B8         737\n",
       "WPW        735\n",
       "HH7        625\n",
       "HAEM       567\n",
       "ETW        566\n",
       "M2SS       544\n",
       "STU        445\n",
       "B7         403\n",
       "B5         342\n",
       "HASU       327\n",
       "CPIU       320\n",
       "THE3       247\n",
       "SBU        233\n",
       "SRU        230\n",
       "M2S        210\n",
       "RCV3       200\n",
       "THE1       169\n",
       "NSSU       123\n",
       "C1         105\n",
       "C3          81\n",
       "HH6M        76\n",
       "M2SU        72\n",
       "HH8         60\n",
       "B4          58\n",
       "TAU         54\n",
       "DCU         51\n",
       "HAED        50\n",
       "L1          47\n",
       "ML          40\n",
       "SAL         37\n",
       "HB2M        33\n",
       "RTU         23\n",
       "C2          22\n",
       "RUSS        21\n",
       "MET         16\n",
       "RCV1        10\n",
       "SAL1         7\n",
       "HH6          6\n",
       "COV1         5\n",
       "GIPU         4\n",
       "GIU          3\n",
       "CHAS         2\n",
       "COV2         2\n",
       "BRCT         1\n",
       "MA2          1\n",
       "EPU          1\n",
       "CRIU         1\n",
       "OIFU         1\n",
       "BTU          1\n",
       "RPC          1\n",
       "dtype: int64"
      ]
     },
     "execution_count": 23,
     "metadata": {},
     "output_type": "execute_result"
    }
   ],
   "source": [
    "sci[SCICols.wards].stack().value_counts()"
   ]
  }
 ],
 "metadata": {
  "kernelspec": {
   "display_name": "Python 3.9.12 ('py39')",
   "language": "python",
   "name": "python3"
  },
  "language_info": {
   "codemirror_mode": {
    "name": "ipython",
    "version": 3
   },
   "file_extension": ".py",
   "mimetype": "text/x-python",
   "name": "python",
   "nbconvert_exporter": "python",
   "pygments_lexer": "ipython3",
   "version": "3.9.12"
  },
  "orig_nbformat": 4,
  "vscode": {
   "interpreter": {
    "hash": "3e35166262197b1ea9223463adaf11f6b58d81a82b7650a41ad4f3574b9c5682"
   }
  }
 },
 "nbformat": 4,
 "nbformat_minor": 2
}
