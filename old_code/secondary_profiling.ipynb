{
 "cells": [
  {
   "cell_type": "markdown",
   "metadata": {},
   "source": [
    "# ACP Project - Model Evaluation"
   ]
  },
  {
   "cell_type": "markdown",
   "metadata": {},
   "source": [
    "## Setup"
   ]
  },
  {
   "cell_type": "code",
   "execution_count": 1,
   "metadata": {},
   "outputs": [],
   "source": [
    "import warnings, pickle, os\n",
    "import numpy as np\n",
    "import pandas as pd\n",
    "pd.set_option(\"display.max_columns\", None)\n",
    "pd.set_option(\"display.max_rows\", 300)\n",
    "\n",
    "from IPython.display import display\n",
    "import matplotlib.pyplot as plt\n",
    "\n",
    "import seaborn as sns\n",
    "sns.set(rc={'figure.figsize':(10,10)})\n",
    "\n",
    "import shap\n",
    "import optuna\n",
    "\n",
    "%load_ext autoreload\n",
    "%autoreload 1"
   ]
  },
  {
   "cell_type": "code",
   "execution_count": 2,
   "metadata": {},
   "outputs": [],
   "source": [
    "from dataset import SCIData, SCICols\n",
    "%aimport utils.evaluation, dataset"
   ]
  },
  {
   "cell_type": "code",
   "execution_count": 71,
   "metadata": {},
   "outputs": [],
   "source": [
    "from sklearn.model_selection import train_test_split\n",
    "\n",
    "sci = SCIData.load('data/sci.h5')\n",
    "\n",
    "scii = (\n",
    "    SCIData(SCIData.quickload(\"data/sci_processed.h5\").sort_values(\"AdmissionDateTime\"))\n",
    "    .mandate(SCICols.news_data_raw)\n",
    "    .derive_critical_event(within=1, return_subcols=True)\n",
    "    .augment_shmi(onehot=True)\n",
    "  #  .omit_redundant()\n",
    "    .derive_ae_diagnosis_stems(onehot=False)\n",
    "   # .categorize()\n",
    "   # .onehot_encode_categories()\n",
    ")\n",
    "\n",
    "sci_train, sci_test, _, y_test_mortality, _, y_test_criticalcare = train_test_split(\n",
    "    scii,\n",
    "    scii.DiedWithinThreshold,\n",
    "    scii.CriticalCare,\n",
    "    test_size=0.33,\n",
    "    random_state=42,\n",
    "    shuffle=False,\n",
    ")\n",
    "sci_train, sci_test = SCIData(sci_train), SCIData(sci_test)"
   ]
  },
  {
   "cell_type": "markdown",
   "metadata": {},
   "source": [
    "## Population"
   ]
  },
  {
   "cell_type": "code",
   "execution_count": 73,
   "metadata": {},
   "outputs": [
    {
     "data": {
      "text/html": [
       "<div>\n",
       "<style scoped>\n",
       "    .dataframe tbody tr th:only-of-type {\n",
       "        vertical-align: middle;\n",
       "    }\n",
       "\n",
       "    .dataframe tbody tr th {\n",
       "        vertical-align: top;\n",
       "    }\n",
       "\n",
       "    .dataframe thead th {\n",
       "        text-align: right;\n",
       "    }\n",
       "</style>\n",
       "<table border=\"1\" class=\"dataframe\">\n",
       "  <thead>\n",
       "    <tr style=\"text-align: right;\">\n",
       "      <th>Subset</th>\n",
       "      <th>Training Set</th>\n",
       "      <th>Testing Set</th>\n",
       "      <th>Total</th>\n",
       "    </tr>\n",
       "  </thead>\n",
       "  <tbody>\n",
       "    <tr>\n",
       "      <th>Start</th>\n",
       "      <td>2015-01-01</td>\n",
       "      <td>2019-08-10</td>\n",
       "      <td>2015-01-01</td>\n",
       "    </tr>\n",
       "    <tr>\n",
       "      <th>End</th>\n",
       "      <td>2019-08-10</td>\n",
       "      <td>2022-03-31</td>\n",
       "      <td>2022-03-31</td>\n",
       "    </tr>\n",
       "    <tr>\n",
       "      <th>Records</th>\n",
       "      <td>81285</td>\n",
       "      <td>40036</td>\n",
       "      <td>121321</td>\n",
       "    </tr>\n",
       "    <tr>\n",
       "      <th>Patients</th>\n",
       "      <td>44789</td>\n",
       "      <td>25579</td>\n",
       "      <td>62211</td>\n",
       "    </tr>\n",
       "    <tr>\n",
       "      <th>CriticalEvents</th>\n",
       "      <td>2182 (2.68%)</td>\n",
       "      <td>932 (2.33%)</td>\n",
       "      <td>3114 (2.57%)</td>\n",
       "    </tr>\n",
       "    <tr>\n",
       "      <th>Deaths</th>\n",
       "      <td>224 (0.28%)</td>\n",
       "      <td>118 (0.29%)</td>\n",
       "      <td>342 (0.28%)</td>\n",
       "    </tr>\n",
       "    <tr>\n",
       "      <th>CriticalCare</th>\n",
       "      <td>1986 (2.44%)</td>\n",
       "      <td>828 (2.07%)</td>\n",
       "      <td>2814 (2.32%)</td>\n",
       "    </tr>\n",
       "    <tr>\n",
       "      <th>Readmissions</th>\n",
       "      <td>10764 (13.24%)</td>\n",
       "      <td>4674 (11.67%)</td>\n",
       "      <td>15438 (12.72%)</td>\n",
       "    </tr>\n",
       "  </tbody>\n",
       "</table>\n",
       "</div>"
      ],
      "text/plain": [
       "Subset            Training Set    Testing Set           Total\n",
       "Start               2015-01-01     2019-08-10      2015-01-01\n",
       "End                 2019-08-10     2022-03-31      2022-03-31\n",
       "Records                  81285          40036          121321\n",
       "Patients                 44789          25579           62211\n",
       "CriticalEvents    2182 (2.68%)    932 (2.33%)    3114 (2.57%)\n",
       "Deaths             224 (0.28%)    118 (0.29%)     342 (0.28%)\n",
       "CriticalCare      1986 (2.44%)    828 (2.07%)    2814 (2.32%)\n",
       "Readmissions    10764 (13.24%)  4674 (11.67%)  15438 (12.72%)"
      ]
     },
     "execution_count": 73,
     "metadata": {},
     "output_type": "execute_result"
    }
   ],
   "source": [
    "pd.DataFrame(\n",
    "    [\n",
    "        dict(\n",
    "            Subset=name,\n",
    "            Start=df.AdmissionDateTime.min().strftime('%Y-%m-%d'),\n",
    "            End=df.AdmissionDateTime.max().strftime('%Y-%m-%d'),\n",
    "            Records=df.shape[0],\n",
    "            Patients=df.PatientNumber.unique().shape[0],\n",
    "            CriticalEvents=f'{df.CriticalEvent.sum()} ({round(df.CriticalEvent.sum()/df.shape[0]*100,2)}%)',\n",
    "            Deaths=f'{df.DiedWithinThreshold.sum()} ({round(df.DiedWithinThreshold.sum()/df.shape[0]*100,2)}%)',\n",
    "            CriticalCare=f'{df.CriticalCare.sum()} ({round(df.CriticalCare.sum()/df.shape[0]*100,2)}%)',\n",
    "            Readmissions=f'{df.Readmission.sum()} ({round(df.Readmission.sum()/df.shape[0]*100,2)}%)',\n",
    "        )\n",
    "        for name, df in {'Training Set': sci_train, 'Testing Set': sci_test, 'Total': scii}.items()\n",
    "    ]\n",
    ").set_index('Subset').T"
   ]
  },
  {
   "cell_type": "markdown",
   "metadata": {},
   "source": [
    "1. Data size (total, training, testing, total patients)\n",
    "2. Outcomes (critical, deaths, icu)\n",
    "3. Sex (female %), Age (median)\n",
    "4. Comorbid conditions (median #, max 7 per patient)\n",
    "5. Presence of vital signs, presence of blood test results, \n",
    "6. LOS of hospitalisation "
   ]
  },
  {
   "cell_type": "code",
   "execution_count": 74,
   "metadata": {},
   "outputs": [
    {
     "data": {
      "text/html": [
       "<div>\n",
       "<style scoped>\n",
       "    .dataframe tbody tr th:only-of-type {\n",
       "        vertical-align: middle;\n",
       "    }\n",
       "\n",
       "    .dataframe tbody tr th {\n",
       "        vertical-align: top;\n",
       "    }\n",
       "\n",
       "    .dataframe thead th {\n",
       "        text-align: right;\n",
       "    }\n",
       "</style>\n",
       "<table border=\"1\" class=\"dataframe\">\n",
       "  <thead>\n",
       "    <tr style=\"text-align: right;\">\n",
       "      <th>Subset</th>\n",
       "      <th>Training Set</th>\n",
       "      <th>Testing Set</th>\n",
       "      <th>Total</th>\n",
       "    </tr>\n",
       "  </thead>\n",
       "  <tbody>\n",
       "    <tr>\n",
       "      <th>news</th>\n",
       "      <td>0.0%</td>\n",
       "      <td>0.0%</td>\n",
       "      <td>0.0%</td>\n",
       "    </tr>\n",
       "    <tr>\n",
       "      <th>news_scores</th>\n",
       "      <td>0.0%</td>\n",
       "      <td>0.0%</td>\n",
       "      <td>0.0%</td>\n",
       "    </tr>\n",
       "    <tr>\n",
       "      <th>news_extended</th>\n",
       "      <td>4.95%</td>\n",
       "      <td>2.9%</td>\n",
       "      <td>4.27%</td>\n",
       "    </tr>\n",
       "    <tr>\n",
       "      <th>phenotype</th>\n",
       "      <td>0.0%</td>\n",
       "      <td>0.0%</td>\n",
       "      <td>0.0%</td>\n",
       "    </tr>\n",
       "    <tr>\n",
       "      <th>ae</th>\n",
       "      <td>47.03%</td>\n",
       "      <td>56.15%</td>\n",
       "      <td>50.04%</td>\n",
       "    </tr>\n",
       "    <tr>\n",
       "      <th>labs</th>\n",
       "      <td>61.71%</td>\n",
       "      <td>19.65%</td>\n",
       "      <td>47.83%</td>\n",
       "    </tr>\n",
       "    <tr>\n",
       "      <th>hospital</th>\n",
       "      <td>0.0%</td>\n",
       "      <td>0.0%</td>\n",
       "      <td>0.0%</td>\n",
       "    </tr>\n",
       "    <tr>\n",
       "      <th>diagnoses</th>\n",
       "      <td>2.47%</td>\n",
       "      <td>2.14%</td>\n",
       "      <td>2.36%</td>\n",
       "    </tr>\n",
       "  </tbody>\n",
       "</table>\n",
       "</div>"
      ],
      "text/plain": [
       "Subset        Training Set Testing Set   Total\n",
       "news                  0.0%        0.0%    0.0%\n",
       "news_scores           0.0%        0.0%    0.0%\n",
       "news_extended        4.95%        2.9%   4.27%\n",
       "phenotype             0.0%        0.0%    0.0%\n",
       "ae                  47.03%      56.15%  50.04%\n",
       "labs                61.71%      19.65%  47.83%\n",
       "hospital              0.0%        0.0%    0.0%\n",
       "diagnoses            2.47%       2.14%   2.36%"
      ]
     },
     "execution_count": 74,
     "metadata": {},
     "output_type": "execute_result"
    }
   ],
   "source": [
    "pd.DataFrame(\n",
    "    [\n",
    "        {\n",
    "            k:f'{round(df[v].isna().sum().sum()/df[v].size*100,2)}%' for k, v in df.feature_groups.items()\n",
    "        } | dict(Subset=name) for name, df in {'Training Set': sci_train, 'Testing Set': sci_test, 'Total': scii}.items()\n",
    "    ]\n",
    ").set_index('Subset').T"
   ]
  },
  {
   "cell_type": "code",
   "execution_count": null,
   "metadata": {},
   "outputs": [],
   "source": []
  }
 ],
 "metadata": {
  "kernelspec": {
   "display_name": "Python 3.9.12 ('py39')",
   "language": "python",
   "name": "python3"
  },
  "language_info": {
   "codemirror_mode": {
    "name": "ipython",
    "version": 3
   },
   "file_extension": ".py",
   "mimetype": "text/x-python",
   "name": "python",
   "nbconvert_exporter": "python",
   "pygments_lexer": "ipython3",
   "version": "3.9.12"
  },
  "orig_nbformat": 4,
  "vscode": {
   "interpreter": {
    "hash": "3e35166262197b1ea9223463adaf11f6b58d81a82b7650a41ad4f3574b9c5682"
   }
  }
 },
 "nbformat": 4,
 "nbformat_minor": 2
}
