{
 "cells": [
  {
   "cell_type": "code",
   "execution_count": 1,
   "metadata": {},
   "outputs": [],
   "source": [
    "import warnings\n",
    "warnings.simplefilter(action=\"ignore\", category=FutureWarning)\n",
    "import math\n",
    "import numpy as np\n",
    "import pandas as pd\n",
    "\n",
    "pd.set_option(\"display.max_columns\", None)\n",
    "\n",
    "import matplotlib.pyplot as plt\n",
    "import seaborn as sns\n",
    "sns.set_theme(style=\"darkgrid\", palette=\"colorblind\")\n",
    "sns.set(rc={\"figure.figsize\": (11.5, 8.5), \"figure.dpi\": 100})\n",
    "\n",
    "from sklearn import metrics\n",
    "\n",
    "from dataset import SCIData, SCICols\n",
    "%load_ext autoreload\n",
    "%autoreload 1\n",
    "%aimport utils.data_profiling, dataset"
   ]
  },
  {
   "cell_type": "code",
   "execution_count": 2,
   "metadata": {},
   "outputs": [],
   "source": [
    "class Notebook:\n",
    "    RUN_MODEL_SELECTION = True"
   ]
  },
  {
   "cell_type": "code",
   "execution_count": 3,
   "metadata": {},
   "outputs": [
    {
     "data": {
      "text/plain": [
       "{'news_columns': ['impute', 'omit', 'mandate'],\n",
       " 'blood_columns': ['impute', 'omit', 'mandate'],\n",
       " 'news_format': ['raw', 'scored'],\n",
       " 'diagnoses_grouping': ['icd10_3code',\n",
       "  'icd10_chapter',\n",
       "  'icd10_group',\n",
       "  'ccs',\n",
       "  'hsmr',\n",
       "  'shmi'],\n",
       " 'diagnoses_onehot': [False, True]}"
      ]
     },
     "execution_count": 3,
     "metadata": {},
     "output_type": "execute_result"
    }
   ],
   "source": [
    "{\n",
    "    'news_columns': ['impute', 'omit', 'mandate'],\n",
    "    'blood_columns': ['impute', 'omit', 'mandate'],\n",
    "    'news_format': ['raw', 'scored'],\n",
    "    'diagnoses_grouping': ['icd10_3code', 'icd10_chapter', 'icd10_group', 'ccs', 'hsmr', 'shmi'],\n",
    "    'diagnoses_onehot': [False, True]\n",
    "    # Assumed steps:\n",
    "    # - Mandate diagnoses, omit a&e text, omit VBG\n",
    "}"
   ]
  },
  {
   "cell_type": "code",
   "execution_count": 4,
   "metadata": {},
   "outputs": [],
   "source": [
    "sci = (\n",
    "    SCIData.load('data/sci_processed.h5')\n",
    "    .omit_redundant()\n",
    "    .omit_vbg()\n",
    "    .omit_ae()\n",
    ")"
   ]
  },
  {
   "cell_type": "code",
   "execution_count": 5,
   "metadata": {},
   "outputs": [],
   "source": [
    "some_params = {\n",
    "    'news_columns':'impute',\n",
    "    'blood_columns':'impute',\n",
    "    'news_format':'raw',\n",
    "    'diagnoses_grouping': 'hsmr',\n",
    "    'diagnoses_onehot': True\n",
    "}"
   ]
  },
  {
   "cell_type": "code",
   "execution_count": 38,
   "metadata": {},
   "outputs": [],
   "source": [
    "X, y = sci.preprocess_from_params(**some_params)"
   ]
  },
  {
   "cell_type": "code",
   "execution_count": 42,
   "metadata": {},
   "outputs": [],
   "source": [
    "from sklearn.compose import ColumnTransformer\n",
    "from sklearn.impute import SimpleImputer\n",
    "from sklearn.preprocessing import OneHotEncoder, MinMaxScaler, FunctionTransformer\n",
    "from sklearn.pipeline import Pipeline\n",
    "\n",
    "numeric, categorical = \\\n",
    "    X.select_dtypes(include='number').columns.tolist(),\\\n",
    "    X.select_dtypes(exclude='number').columns.tolist()\n",
    "\n",
    "numeric_pipeline = Pipeline(steps=[\n",
    "    ('scale', MinMaxScaler())\n",
    "])\n",
    "\n",
    "categorical_pipeline = Pipeline(steps=[\n",
    "    ('one-hot', OneHotEncoder(handle_unknown='ignore', sparse=False))\n",
    "])\n",
    "\n",
    "full_processor = Pipeline(steps=[\n",
    "    ('columns', ColumnTransformer(transformers=[\n",
    "        ('number', numeric_pipeline, numeric),\n",
    "        ('category', categorical_pipeline, categorical)\n",
    "    ]))\n",
    "])\n",
    "\n",
    "X = full_processor.fit_transform(X)"
   ]
  },
  {
   "cell_type": "code",
   "execution_count": 44,
   "metadata": {},
   "outputs": [],
   "source": [
    "from sklearn.model_selection import train_test_split\n",
    "X_train, X_test, y_train, y_test = train_test_split(X, y, test_size=0.25, random_state=42)"
   ]
  },
  {
   "cell_type": "code",
   "execution_count": 45,
   "metadata": {},
   "outputs": [],
   "source": [
    "from sklearn.metrics import accuracy_score, precision_score, recall_score, roc_auc_score, f1_score, fbeta_score, make_scorer\n",
    "\n",
    "f2_score = make_scorer(fbeta_score, beta=2)\n",
    "\n",
    "METRICS = {\n",
    "    'Accuracy': 'accuracy',\n",
    "    'Precision': 'precision',\n",
    "    'Recall': 'recall',\n",
    "    'AUC': 'roc_auc',\n",
    "    'F1 Score': 'f1',\n",
    "    'F2 Score': f2_score\n",
    "}"
   ]
  },
  {
   "cell_type": "code",
   "execution_count": 48,
   "metadata": {},
   "outputs": [],
   "source": [
    "from sklearn.model_selection import cross_validate\n",
    "\n",
    "def spotCheckCV(model, X, y, cv=3, pretty=True):\n",
    "    scores = cross_validate(model, X, y, scoring=METRICS, cv=cv)\n",
    "    r = pd.DataFrame(\n",
    "        [(name.split('_')[1], sc) for name, score in scores.items() if name.startswith('test') for sc in score],\n",
    "        columns=[\"Metric\", \"Score\"]\n",
    "    )\n",
    "    if pretty:\n",
    "        display(r.groupby(\"Metric\").agg(\n",
    "            Mean=pd.NamedAgg(column=\"Score\", aggfunc=np.mean),\n",
    "            Std=pd.NamedAgg(column=\"Score\", aggfunc=np.std)\n",
    "        ))\n",
    "    return r"
   ]
  },
  {
   "cell_type": "code",
   "execution_count": 49,
   "metadata": {},
   "outputs": [
    {
     "data": {
      "text/html": [
       "<div>\n",
       "<style scoped>\n",
       "    .dataframe tbody tr th:only-of-type {\n",
       "        vertical-align: middle;\n",
       "    }\n",
       "\n",
       "    .dataframe tbody tr th {\n",
       "        vertical-align: top;\n",
       "    }\n",
       "\n",
       "    .dataframe thead th {\n",
       "        text-align: right;\n",
       "    }\n",
       "</style>\n",
       "<table border=\"1\" class=\"dataframe\">\n",
       "  <thead>\n",
       "    <tr style=\"text-align: right;\">\n",
       "      <th></th>\n",
       "      <th>Mean</th>\n",
       "      <th>Std</th>\n",
       "    </tr>\n",
       "    <tr>\n",
       "      <th>Metric</th>\n",
       "      <th></th>\n",
       "      <th></th>\n",
       "    </tr>\n",
       "  </thead>\n",
       "  <tbody>\n",
       "    <tr>\n",
       "      <th>AUC</th>\n",
       "      <td>0.500000</td>\n",
       "      <td>0.0</td>\n",
       "    </tr>\n",
       "    <tr>\n",
       "      <th>Accuracy</th>\n",
       "      <td>0.038513</td>\n",
       "      <td>0.0</td>\n",
       "    </tr>\n",
       "    <tr>\n",
       "      <th>F1 Score</th>\n",
       "      <td>0.074170</td>\n",
       "      <td>0.0</td>\n",
       "    </tr>\n",
       "    <tr>\n",
       "      <th>F2 Score</th>\n",
       "      <td>0.166861</td>\n",
       "      <td>0.0</td>\n",
       "    </tr>\n",
       "    <tr>\n",
       "      <th>Precision</th>\n",
       "      <td>0.038513</td>\n",
       "      <td>0.0</td>\n",
       "    </tr>\n",
       "    <tr>\n",
       "      <th>Recall</th>\n",
       "      <td>1.000000</td>\n",
       "      <td>0.0</td>\n",
       "    </tr>\n",
       "  </tbody>\n",
       "</table>\n",
       "</div>"
      ],
      "text/plain": [
       "               Mean  Std\n",
       "Metric                  \n",
       "AUC        0.500000  0.0\n",
       "Accuracy   0.038513  0.0\n",
       "F1 Score   0.074170  0.0\n",
       "F2 Score   0.166861  0.0\n",
       "Precision  0.038513  0.0\n",
       "Recall     1.000000  0.0"
      ]
     },
     "metadata": {},
     "output_type": "display_data"
    }
   ],
   "source": [
    "if Notebook.RUN_MODEL_SELECTION:\n",
    "    from sklearn.dummy import DummyClassifier\n",
    "\n",
    "    naive_clf = DummyClassifier(strategy='constant', constant=1)\n",
    "    spotCheckCV(naive_clf, X_train, y_train), \"Naive Classifier\"\n"
   ]
  }
 ],
 "metadata": {
  "kernelspec": {
   "display_name": "Python 3.9.12 ('py39')",
   "language": "python",
   "name": "python3"
  },
  "language_info": {
   "codemirror_mode": {
    "name": "ipython",
    "version": 3
   },
   "file_extension": ".py",
   "mimetype": "text/x-python",
   "name": "python",
   "nbconvert_exporter": "python",
   "pygments_lexer": "ipython3",
   "version": "3.9.12"
  },
  "orig_nbformat": 4,
  "vscode": {
   "interpreter": {
    "hash": "3e35166262197b1ea9223463adaf11f6b58d81a82b7650a41ad4f3574b9c5682"
   }
  }
 },
 "nbformat": 4,
 "nbformat_minor": 2
}
