{
 "cells": [
  {
   "cell_type": "code",
   "execution_count": 1,
   "metadata": {},
   "outputs": [],
   "source": [
    "import warnings, math, itertools, json, logging\n",
    "from hashlib import md5\n",
    "\n",
    "import numpy as np\n",
    "import pandas as pd\n",
    "\n",
    "from IPython.display import display\n",
    "import matplotlib.pyplot as plt\n",
    "import seaborn as sns\n",
    "\n",
    "%load_ext autoreload\n",
    "%autoreload 1\n"
   ]
  },
  {
   "cell_type": "code",
   "execution_count": 2,
   "metadata": {},
   "outputs": [],
   "source": [
    "pd.set_option(\"display.max_columns\", None)\n",
    "sns.set_theme(style=\"darkgrid\", palette=\"colorblind\")\n",
    "sns.set(rc={\"figure.figsize\": (11.5, 8.5), \"figure.dpi\": 100})\n",
    "\n",
    "logging.basicConfig(\n",
    "    level=logging.INFO, format=\"%(asctime)s [%(levelname)s] %(message)s\"\n",
    ")\n"
   ]
  },
  {
   "cell_type": "code",
   "execution_count": 3,
   "metadata": {},
   "outputs": [],
   "source": [
    "from dataset import SCIData, SCICols\n",
    "%aimport dataset\n",
    "X, y = SCIData.load(\"data/sci_processed.h5\").omit_redundant().omit_vbg().omit_ae().derive_critical_event().augment_hsmr(onehot=True).impute_blood().raw_news().mandate_news().mandate_diagnoses().xy(outcome='DiedDuringStay')"
   ]
  },
  {
   "cell_type": "code",
   "execution_count": 4,
   "metadata": {},
   "outputs": [],
   "source": [
    "from sklearn.compose import make_column_selector, make_column_transformer\n",
    "from sklearn.preprocessing import OneHotEncoder, MinMaxScaler, FunctionTransformer\n",
    "from sklearn.pipeline import Pipeline\n",
    "\n",
    "numeric_pipeline = Pipeline(steps=[(\"scale\", MinMaxScaler()),])\n",
    "\n",
    "categorical_pipeline = Pipeline(\n",
    "    steps=[(\"one-hot\", OneHotEncoder(handle_unknown=\"ignore\", sparse=False)),]\n",
    ")\n",
    "\n",
    "ct = make_column_transformer(\n",
    "    (numeric_pipeline, make_column_selector(dtype_include=np.number)),\n",
    "    (categorical_pipeline, make_column_selector(dtype_include=object)),\n",
    ")\n",
    "\n",
    "full_processor = Pipeline(steps=[(\"columns\", ct)])\n"
   ]
  },
  {
   "cell_type": "code",
   "execution_count": 61,
   "metadata": {},
   "outputs": [
    {
     "ename": "ValueError",
     "evalue": "not enough values to unpack (expected 4, got 2)",
     "output_type": "error",
     "traceback": [
      "\u001b[1;31m---------------------------------------------------------------------------\u001b[0m",
      "\u001b[1;31mValueError\u001b[0m                                Traceback (most recent call last)",
      "\u001b[1;32mc:\\Users\\stybl\\src\\acute-care-pathways\\ml.ipynb Cell 5\u001b[0m in \u001b[0;36m<cell line: 3>\u001b[1;34m()\u001b[0m\n\u001b[0;32m      <a href='vscode-notebook-cell://ssh-remote%2Bstybl-acp/c%3A/Users/stybl/src/acute-care-pathways/ml.ipynb#ch0000004vscode-remote?line=0'>1</a>\u001b[0m \u001b[39mfrom\u001b[39;00m \u001b[39msklearn\u001b[39;00m\u001b[39m.\u001b[39;00m\u001b[39mmodel_selection\u001b[39;00m \u001b[39mimport\u001b[39;00m train_test_split\n\u001b[1;32m----> <a href='vscode-notebook-cell://ssh-remote%2Bstybl-acp/c%3A/Users/stybl/src/acute-care-pathways/ml.ipynb#ch0000004vscode-remote?line=2'>3</a>\u001b[0m X_train, X_test, y_train, y_test \u001b[39m=\u001b[39m train_test_split(\n\u001b[0;32m      <a href='vscode-notebook-cell://ssh-remote%2Bstybl-acp/c%3A/Users/stybl/src/acute-care-pathways/ml.ipynb#ch0000004vscode-remote?line=3'>4</a>\u001b[0m     full_processor\u001b[39m.\u001b[39mfit_transform(X, y), test_size\u001b[39m=\u001b[39m\u001b[39m0.25\u001b[39m\n\u001b[0;32m      <a href='vscode-notebook-cell://ssh-remote%2Bstybl-acp/c%3A/Users/stybl/src/acute-care-pathways/ml.ipynb#ch0000004vscode-remote?line=4'>5</a>\u001b[0m )\n",
      "\u001b[1;31mValueError\u001b[0m: not enough values to unpack (expected 4, got 2)"
     ]
    }
   ],
   "source": [
    "from sklearn.model_selection import train_test_split\n",
    "\n",
    "X_train, X_test, y_train, y_test = train_test_split(\n",
    "    full_processor.fit_transform(X, y), test_size=0.25\n",
    ")"
   ]
  },
  {
   "cell_type": "code",
   "execution_count": null,
   "metadata": {},
   "outputs": [],
   "source": [
    "from sklearn.metrics import (\n",
    "    accuracy_score,\n",
    "    precision_score,\n",
    "    recall_score,\n",
    "    roc_auc_score,\n",
    "    f1_score,\n",
    "    fbeta_score,\n",
    "    make_scorer,\n",
    ")\n",
    "\n",
    "f2_score = make_scorer(fbeta_score, beta=2)\n",
    "\n",
    "METRICS = {\n",
    "    \"Accuracy\": \"accuracy\",\n",
    "    \"Precision\": \"precision\",\n",
    "    \"Recall\": \"recall\",\n",
    "    \"AUC\": \"roc_auc\",\n",
    "    \"F1 Score\": \"f1\",\n",
    "    \"F2 Score\": f2_score,\n",
    "}"
   ]
  },
  {
   "cell_type": "code",
   "execution_count": null,
   "metadata": {},
   "outputs": [],
   "source": [
    "from sklearn.model_selection import cross_validate\n",
    "\n",
    "\n",
    "def spotCheckCV(model, X, y, cv=3, pretty=True):\n",
    "    scores = cross_validate(model, X, y, scoring=METRICS, cv=cv)\n",
    "    if pretty:\n",
    "        display(\n",
    "            pd.DataFrame(\n",
    "                [\n",
    "                    (name.split(\"_\")[1], sc)\n",
    "                    for name, score in scores.items()\n",
    "                    if name.startswith(\"test\")\n",
    "                    for sc in score\n",
    "                ],\n",
    "                columns=[\"Metric\", \"Score\"],\n",
    "            )\n",
    "            .groupby(\"Metric\")\n",
    "            .agg(\n",
    "                Mean=pd.NamedAgg(column=\"Score\", aggfunc=np.mean),\n",
    "                Std=pd.NamedAgg(column=\"Score\", aggfunc=np.std),\n",
    "            )\n",
    "        )\n",
    "    else:\n",
    "        return scores\n"
   ]
  },
  {
   "cell_type": "code",
   "execution_count": null,
   "metadata": {},
   "outputs": [],
   "source": [
    "from cross_validation import cross_validate_parallel_file\n",
    "%aimport cross_validation"
   ]
  },
  {
   "cell_type": "code",
   "execution_count": null,
   "metadata": {},
   "outputs": [],
   "source": [
    "from sklearn.dummy import DummyClassifier\n",
    "from sklearn.linear_model import LogisticRegression\n",
    "from sklearn.naive_bayes import GaussianNB\n",
    "from sklearn.tree import DecisionTreeClassifier\n",
    "from sklearn.svm import SVC\n",
    "from sklearn.ensemble import RandomForestClassifier\n",
    "from xgboost import XGBClassifier\n",
    "from imblearn.ensemble import BalancedRandomForestClassifier\n",
    "from imblearn.over_sampling import SMOTE\n",
    "from imblearn.under_sampling import RandomUnderSampler, TomekLinks\n",
    "from imblearn.pipeline import Pipeline as ImbPipeline\n",
    "from imblearn.combine import SMOTETomek\n",
    "\n",
    "MODELS = {\n",
    "    \"Logistic Regression\": LogisticRegression(random_state=0, C=1e2, max_iter=1000),\n",
    "    \"Gaussian NB\": GaussianNB(),\n",
    "    \"Decision Tree\": DecisionTreeClassifier(),\n",
    "    \"SVM\": SVC(),\n",
    "    \"Random Forest\": RandomForestClassifier(),\n",
    "    \"XGBoost\": XGBClassifier(use_label_encoder=False, eval_metric=\"logloss\"),\n",
    "}\n",
    "\n",
    "IMBALANCED_MODELS = {\n",
    "    \"Balanced Decision Tree\": DecisionTreeClassifier(class_weight=\"balanced\"),\n",
    "    \"Balanced SVM\": SVC(gamma=\"scale\", class_weight=\"balanced\"),\n",
    "    \"Balanced Random Forest\": BalancedRandomForestClassifier(\n",
    "        n_estimators=10, class_weight=\"balanced_subsample\"\n",
    "    ),\n",
    "    \"Balanced XGBoost\": XGBClassifier(\n",
    "        use_label_encoder=False, scale_pos_weight=21, eval_metric=\"logloss\"\n",
    "    ),\n",
    "}\n",
    "\n",
    "RESAMPLERS = {\n",
    "    \"SMOTE\": SMOTE(),\n",
    "    \"Undersampling\": RandomUnderSampler(sampling_strategy=\"majority\"),\n",
    "    \"SMOTE-Tomek\": SMOTETomek(tomek=TomekLinks(sampling_strategy=\"majority\")),\n",
    "}\n",
    "\n",
    "resampled_models = {\n",
    "    f'{classifier[0]} with {sampler[0]}':ImbPipeline(steps=[sampler, classifier]) for sampler in RESAMPLERS.items() for classifier in MODELS.items()\n",
    "}"
   ]
  },
  {
   "cell_type": "code",
   "execution_count": null,
   "metadata": {},
   "outputs": [],
   "source": [
    "cross_validate_parallel_file(filename='test2.csv', models={**MODELS,**resampled_models,**IMBALANCED_MODELS}, X=X_train, y=y_train, scoring=METRICS, cv=2)"
   ]
  }
 ],
 "metadata": {
  "kernelspec": {
   "display_name": "Python 3.9.12 ('py39')",
   "language": "python",
   "name": "python3"
  },
  "language_info": {
   "codemirror_mode": {
    "name": "ipython",
    "version": 3
   },
   "file_extension": ".py",
   "mimetype": "text/x-python",
   "name": "python",
   "nbconvert_exporter": "python",
   "pygments_lexer": "ipython3",
   "version": "3.9.12"
  },
  "orig_nbformat": 4,
  "vscode": {
   "interpreter": {
    "hash": "3e35166262197b1ea9223463adaf11f6b58d81a82b7650a41ad4f3574b9c5682"
   }
  }
 },
 "nbformat": 4,
 "nbformat_minor": 2
}
