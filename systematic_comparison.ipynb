{
 "cells": [
  {
   "cell_type": "markdown",
   "metadata": {},
   "source": [
    "# ACP Project - Systematic Model Comparison"
   ]
  },
  {
   "cell_type": "code",
   "execution_count": 10,
   "metadata": {},
   "outputs": [
    {
     "name": "stdout",
     "output_type": "stream",
     "text": [
      "The autoreload extension is already loaded. To reload it, use:\n",
      "  %reload_ext autoreload\n"
     ]
    }
   ],
   "source": [
    "import warnings, pickle, os\n",
    "from dataclasses import dataclass\n",
    "from abc import ABC, abstractmethod\n",
    "\n",
    "import numpy as np\n",
    "import pandas as pd\n",
    "pd.set_option(\"display.max_columns\", None)\n",
    "pd.set_option(\"display.max_rows\", 300)\n",
    "\n",
    "from IPython.display import display\n",
    "import matplotlib.pyplot as plt\n",
    "\n",
    "import seaborn as sns\n",
    "sns.set(rc={'figure.figsize':(10,10)})\n",
    "\n",
    "import shap\n",
    "import optuna\n",
    "\n",
    "%load_ext autoreload\n",
    "%autoreload 1"
   ]
  },
  {
   "cell_type": "code",
   "execution_count": 3,
   "metadata": {},
   "outputs": [],
   "source": [
    "from dataset import SCIData, SCICols\n",
    "%aimport dataset"
   ]
  },
  {
   "cell_type": "code",
   "execution_count": null,
   "metadata": {},
   "outputs": [],
   "source": [
    "def construct_pipeline()"
   ]
  },
  {
   "cell_type": "code",
   "execution_count": 11,
   "metadata": {},
   "outputs": [],
   "source": [
    "from imblearn.pipeline import Pipeline as ImbPipeline\n",
    "from typing import Dict, Any\n",
    "\n",
    "class Model(ABC):\n",
    "    _name: str\n",
    "    _estimator: ImbPipeline\n",
    "    _requirements: Dict[str, bool]\n",
    "    _static_params: Dict[str, Any]\n",
    "    _tuning_params_default: Dict[str, Any]\n",
    "\n",
    "    @abstractmethod\n",
    "    def suggest_parameters(self, trial):\n",
    "        pass\n"
   ]
  },
  {
   "cell_type": "code",
   "execution_count": 12,
   "metadata": {},
   "outputs": [],
   "source": [
    "from lightgbm import LGBMClassifier\n",
    "from sklearn.calibration import CalibratedClassifierCV\n",
    "from imblearn.pipeline import Pipeline as ImbPipeline\n",
    "\n",
    "@dataclass\n",
    "class Model_LightGBM(Model):\n",
    "    _name = 'LightGBM'\n",
    "    _estimator = LGBMClassifier()\n",
    "\n",
    "    _requirements = dict(\n",
    "        onehot = False,\n",
    "        imputation = False,\n",
    "        fillna = False,\n",
    "        resampling = False\n",
    "    )\n",
    "\n",
    "    _static_params = dict(\n",
    "        objective='binary',\n",
    "        metric=['l2', 'auc'],\n",
    "        boosting_type='gbdt',\n",
    "        n_jobs=1,\n",
    "        random_state=42,\n",
    "        verbose=-1,\n",
    "        verbose_eval=-1\n",
    "    )\n",
    "\n",
    "    _tuning_params_default = dict(\n",
    "        is_unbalance=True,\n",
    "        lambda_l1 = 1.8e-3,\n",
    "        lambda_l2=6e-4,\n",
    "        num_leaves=14,\n",
    "        feature_fraction=0.4,\n",
    "        bagging_fraction=0.97,\n",
    "        bagging_freq=1,\n",
    "        min_child_samples=6\n",
    "    )\n",
    "\n",
    "    def suggest_parameters(self, trial):\n",
    "        suggestions = dict(\n",
    "            lambda_l1 = trial.suggest_float(\n",
    "                f'{self._name}__lambda_l1', 1e-4, 10.0, log=True \n",
    "            ),\n",
    "            lambda_l2 = trial.suggest_float(\n",
    "                f'{self._name}__lambda_l2', 1e-4, 10.0, log=True \n",
    "            ),\n",
    "            num_leaves = trial.suggest_int(\n",
    "                f'{self._name}__num_leaves', 2, 256\n",
    "            ),\n",
    "            feature_fraction = trial.suggest_float(\n",
    "                f'{self._name}__feature_fraction', 0.4, 1.0\n",
    "            ),\n",
    "            bagging_fraction = trial.suggest_float(\n",
    "                f'{self._name}__bagging_fraction', 0.4, 1.0\n",
    "            ),\n",
    "            bagging_freq = trial.suggest_int(\n",
    "                f'{self._name}__bagging_freq', 1, 7\n",
    "            ),\n",
    "            min_child_samples = trial.suggest_int(\n",
    "                f'{self._name}__min_child_samples', 5, 150\n",
    "            ),\n",
    "        )\n",
    "\n",
    "        return {\n",
    "            f'{self._name}__{key}': value for key, value in {\n",
    "                **self._static_params,\n",
    "                **self._tuning_params_default\n",
    "                **suggestions\n",
    "            }.items()\n",
    "        }"
   ]
  },
  {
   "cell_type": "code",
   "execution_count": 6,
   "metadata": {},
   "outputs": [],
   "source": [
    "from sklearn.linear_model import LogisticRegression\n",
    "\n",
    "class Model_LogisticRegression"
   ]
  }
 ],
 "metadata": {
  "kernelspec": {
   "display_name": "Python 3.9.12 ('py39')",
   "language": "python",
   "name": "python3"
  },
  "language_info": {
   "codemirror_mode": {
    "name": "ipython",
    "version": 3
   },
   "file_extension": ".py",
   "mimetype": "text/x-python",
   "name": "python",
   "nbconvert_exporter": "python",
   "pygments_lexer": "ipython3",
   "version": "3.9.12"
  },
  "orig_nbformat": 4,
  "vscode": {
   "interpreter": {
    "hash": "3e35166262197b1ea9223463adaf11f6b58d81a82b7650a41ad4f3574b9c5682"
   }
  }
 },
 "nbformat": 4,
 "nbformat_minor": 2
}
