{
 "cells": [
  {
   "cell_type": "code",
   "execution_count": 2,
   "metadata": {},
   "outputs": [],
   "source": [
    "import warnings, math, itertools, json, logging, os\n",
    "from hashlib import md5\n",
    "\n",
    "import numpy as np\n",
    "import pandas as pd\n",
    "\n",
    "from IPython.display import display\n",
    "import matplotlib.pyplot as plt\n",
    "import seaborn as sns\n",
    "\n",
    "%load_ext autoreload\n",
    "%autoreload 1\n"
   ]
  },
  {
   "cell_type": "code",
   "execution_count": 205,
   "metadata": {},
   "outputs": [],
   "source": [
    "from sklearn.metrics import (\n",
    "    accuracy_score,\n",
    "    precision_score,\n",
    "    recall_score,\n",
    "    roc_auc_score,\n",
    "    f1_score,\n",
    "    fbeta_score,\n",
    "    make_scorer,\n",
    "    precision_recall_curve\n",
    ")\n",
    "\n",
    "f2_score = make_scorer(fbeta_score, beta=2)\n",
    "\n",
    "METRICS = {\n",
    "    \"Accuracy\": \"accuracy\",\n",
    "    \"Precision\": \"precision\",\n",
    "    \"Recall\": \"recall\",\n",
    "    \"AUC\": \"roc_auc\",\n",
    "    \"F1 Score\": \"f1\",\n",
    "    \"F2 Score\": f2_score,\n",
    "}\n",
    "\n",
    "def get_metrics(y_true, y_pred):\n",
    "    return {\n",
    "        \"Accuracy\": accuracy_score(y_true, y_pred),\n",
    "        \"Precision\": precision_score(y_true, y_pred),\n",
    "        \"Recall\": recall_score(y_true, y_pred),\n",
    "        \"F1 Score\": f1_score(y_true, y_pred),\n",
    "        \"F2 Score\": fbeta_score(y_true, y_pred, beta=2),\n",
    "    }"
   ]
  },
  {
   "cell_type": "code",
   "execution_count": 4,
   "metadata": {},
   "outputs": [],
   "source": [
    "from cross_validation import cross_validate_parallel\n",
    "from sklearn.model_selection import train_test_split\n",
    "%aimport cross_validation\n",
    "\n",
    "def spotCheckCV(models, X, y, cv=3, pretty=True):\n",
    "    models = {'Model':models} if type(models) != dict else models\n",
    "    X_train, X_test, y_train, y_test = train_test_split(\n",
    "        X, y, test_size=0.25, random_state=42\n",
    "    )\n",
    "    r = cross_validate_parallel(models, X_train, y_train, scoring=METRICS, cv=cv)\n",
    "    return pd.concat([pd.DataFrame(r[_]).assign(model=_) for _ in r.keys()]).groupby('model').mean()   "
   ]
  },
  {
   "cell_type": "code",
   "execution_count": 119,
   "metadata": {},
   "outputs": [],
   "source": [
    "from dataset import SCIData, SCICols\n",
    "%aimport dataset\n",
    "#SCIData.load('data/sci.h5').clean_all().filter_vague_diagnoses().derive_readmission().omit_vbg().omit_ae().save()\n",
    "sci = SCIData.load('data/sci_processed.h5').derive_critical_event(within=2)"
   ]
  },
  {
   "cell_type": "markdown",
   "metadata": {},
   "source": [
    "## LR with NEWS only"
   ]
  },
  {
   "cell_type": "code",
   "execution_count": 203,
   "metadata": {},
   "outputs": [],
   "source": [
    "X, y = sci.mandate_news().xy(x=SCICols.news_data_raw, dtype=float, outcome=\"CriticalEvent\")"
   ]
  },
  {
   "cell_type": "code",
   "execution_count": 13,
   "metadata": {},
   "outputs": [
    {
     "data": {
      "text/html": [
       "<div>\n",
       "<style scoped>\n",
       "    .dataframe tbody tr th:only-of-type {\n",
       "        vertical-align: middle;\n",
       "    }\n",
       "\n",
       "    .dataframe tbody tr th {\n",
       "        vertical-align: top;\n",
       "    }\n",
       "\n",
       "    .dataframe thead th {\n",
       "        text-align: right;\n",
       "    }\n",
       "</style>\n",
       "<table border=\"1\" class=\"dataframe\">\n",
       "  <thead>\n",
       "    <tr style=\"text-align: right;\">\n",
       "      <th></th>\n",
       "      <th>fit_time</th>\n",
       "      <th>score_time</th>\n",
       "      <th>test_Accuracy</th>\n",
       "      <th>test_Precision</th>\n",
       "      <th>test_Recall</th>\n",
       "      <th>test_AUC</th>\n",
       "      <th>test_F1 Score</th>\n",
       "      <th>test_F2 Score</th>\n",
       "    </tr>\n",
       "    <tr>\n",
       "      <th>model</th>\n",
       "      <th></th>\n",
       "      <th></th>\n",
       "      <th></th>\n",
       "      <th></th>\n",
       "      <th></th>\n",
       "      <th></th>\n",
       "      <th></th>\n",
       "      <th></th>\n",
       "    </tr>\n",
       "  </thead>\n",
       "  <tbody>\n",
       "    <tr>\n",
       "      <th>LR</th>\n",
       "      <td>0.445154</td>\n",
       "      <td>0.041655</td>\n",
       "      <td>0.982311</td>\n",
       "      <td>0.557528</td>\n",
       "      <td>0.045441</td>\n",
       "      <td>0.818121</td>\n",
       "      <td>0.083757</td>\n",
       "      <td>0.055616</td>\n",
       "    </tr>\n",
       "    <tr>\n",
       "      <th>LR_Balanced</th>\n",
       "      <td>0.468640</td>\n",
       "      <td>0.044205</td>\n",
       "      <td>0.852968</td>\n",
       "      <td>0.078048</td>\n",
       "      <td>0.668723</td>\n",
       "      <td>0.818850</td>\n",
       "      <td>0.139777</td>\n",
       "      <td>0.266021</td>\n",
       "    </tr>\n",
       "  </tbody>\n",
       "</table>\n",
       "</div>"
      ],
      "text/plain": [
       "             fit_time  score_time  test_Accuracy  test_Precision  test_Recall  \\\n",
       "model                                                                           \n",
       "LR           0.445154    0.041655       0.982311        0.557528     0.045441   \n",
       "LR_Balanced  0.468640    0.044205       0.852968        0.078048     0.668723   \n",
       "\n",
       "             test_AUC  test_F1 Score  test_F2 Score  \n",
       "model                                                \n",
       "LR           0.818121       0.083757       0.055616  \n",
       "LR_Balanced  0.818850       0.139777       0.266021  "
      ]
     },
     "execution_count": 13,
     "metadata": {},
     "output_type": "execute_result"
    }
   ],
   "source": [
    "from sklearn.linear_model import LogisticRegression\n",
    "models = {\n",
    "    'LR': LogisticRegression(random_state=42),\n",
    "    'LR_Balanced': LogisticRegression(class_weight='balanced', random_state=42)\n",
    "}\n",
    "spotCheckCV(models, X, y)"
   ]
  },
  {
   "cell_type": "code",
   "execution_count": 206,
   "metadata": {},
   "outputs": [],
   "source": [
    "X_train, X_test, y_train, y_test = train_test_split(\n",
    "    X, y, test_size=0.25, random_state=42\n",
    ")\n",
    "log = LogisticRegression(class_weight='balanced', random_state=42).fit(X_train, y_train)\n",
    "\n",
    "precision, recall, thresholds = precision_recall_curve(y_train, log.predict_proba(X_train)[:, 1])\n",
    "closest = thresholds[np.abs(precision/recall-target_ratio).argmin()]\n",
    "y_pred = np.where(log.predict_proba(X_test)[:, 1] > closest, 1, 0)"
   ]
  },
  {
   "cell_type": "code",
   "execution_count": 212,
   "metadata": {},
   "outputs": [
    {
     "data": {
      "text/html": [
       "<div>\n",
       "<style scoped>\n",
       "    .dataframe tbody tr th:only-of-type {\n",
       "        vertical-align: middle;\n",
       "    }\n",
       "\n",
       "    .dataframe tbody tr th {\n",
       "        vertical-align: top;\n",
       "    }\n",
       "\n",
       "    .dataframe thead th {\n",
       "        text-align: right;\n",
       "    }\n",
       "</style>\n",
       "<table border=\"1\" class=\"dataframe\">\n",
       "  <thead>\n",
       "    <tr style=\"text-align: right;\">\n",
       "      <th></th>\n",
       "      <th>Accuracy</th>\n",
       "      <th>Precision</th>\n",
       "      <th>Recall</th>\n",
       "      <th>F1 Score</th>\n",
       "      <th>F2 Score</th>\n",
       "    </tr>\n",
       "  </thead>\n",
       "  <tbody>\n",
       "    <tr>\n",
       "      <th>LR_Calibrated</th>\n",
       "      <td>0.972249</td>\n",
       "      <td>0.246914</td>\n",
       "      <td>0.28169</td>\n",
       "      <td>0.263158</td>\n",
       "      <td>0.273973</td>\n",
       "    </tr>\n",
       "  </tbody>\n",
       "</table>\n",
       "</div>"
      ],
      "text/plain": [
       "               Accuracy  Precision   Recall  F1 Score  F2 Score\n",
       "LR_Calibrated  0.972249   0.246914  0.28169  0.263158  0.273973"
      ]
     },
     "execution_count": 212,
     "metadata": {},
     "output_type": "execute_result"
    }
   ],
   "source": [
    "pd.DataFrame(get_metrics(y_test, y_pred), index=['LR_Calibrated'])"
   ]
  },
  {
   "cell_type": "markdown",
   "metadata": {},
   "source": [
    "## XGB with all features"
   ]
  },
  {
   "cell_type": "code",
   "execution_count": 213,
   "metadata": {},
   "outputs": [],
   "source": [
    "X, y = sci.omit_redundant().omit_ae().impute_blood().raw_news().mandate_news().augment_hsmr().encode_ccs_onehot().xy(outcome='CriticalEvent')\n",
    "X = X.drop(['ReadmissionBand', 'AgeBand', 'AandEPresentingComplaint'], axis=1).apply(lambda x:x.replace({True:1.0, False:0.0}))\n",
    "X[X.select_dtypes(include=object).columns] = X.select_dtypes(include=object).astype('category')"
   ]
  },
  {
   "cell_type": "code",
   "execution_count": 221,
   "metadata": {},
   "outputs": [
    {
     "data": {
      "text/html": [
       "<div>\n",
       "<style scoped>\n",
       "    .dataframe tbody tr th:only-of-type {\n",
       "        vertical-align: middle;\n",
       "    }\n",
       "\n",
       "    .dataframe tbody tr th {\n",
       "        vertical-align: top;\n",
       "    }\n",
       "\n",
       "    .dataframe thead th {\n",
       "        text-align: right;\n",
       "    }\n",
       "</style>\n",
       "<table border=\"1\" class=\"dataframe\">\n",
       "  <thead>\n",
       "    <tr style=\"text-align: right;\">\n",
       "      <th></th>\n",
       "      <th>fit_time</th>\n",
       "      <th>score_time</th>\n",
       "      <th>test_Accuracy</th>\n",
       "      <th>test_Precision</th>\n",
       "      <th>test_Recall</th>\n",
       "      <th>test_AUC</th>\n",
       "      <th>test_F1 Score</th>\n",
       "      <th>test_F2 Score</th>\n",
       "    </tr>\n",
       "    <tr>\n",
       "      <th>model</th>\n",
       "      <th></th>\n",
       "      <th></th>\n",
       "      <th></th>\n",
       "      <th></th>\n",
       "      <th></th>\n",
       "      <th></th>\n",
       "      <th></th>\n",
       "      <th></th>\n",
       "    </tr>\n",
       "  </thead>\n",
       "  <tbody>\n",
       "    <tr>\n",
       "      <th>WGB_Unweighted</th>\n",
       "      <td>9.608938</td>\n",
       "      <td>0.298454</td>\n",
       "      <td>0.982421</td>\n",
       "      <td>0.525755</td>\n",
       "      <td>0.185677</td>\n",
       "      <td>0.927296</td>\n",
       "      <td>0.274239</td>\n",
       "      <td>0.213208</td>\n",
       "    </tr>\n",
       "    <tr>\n",
       "      <th>XBG_Weighted</th>\n",
       "      <td>9.555976</td>\n",
       "      <td>0.262892</td>\n",
       "      <td>0.974327</td>\n",
       "      <td>0.343800</td>\n",
       "      <td>0.480742</td>\n",
       "      <td>0.904182</td>\n",
       "      <td>0.400806</td>\n",
       "      <td>0.445189</td>\n",
       "    </tr>\n",
       "  </tbody>\n",
       "</table>\n",
       "</div>"
      ],
      "text/plain": [
       "                fit_time  score_time  test_Accuracy  test_Precision  \\\n",
       "model                                                                 \n",
       "WGB_Unweighted  9.608938    0.298454       0.982421        0.525755   \n",
       "XBG_Weighted    9.555976    0.262892       0.974327        0.343800   \n",
       "\n",
       "                test_Recall  test_AUC  test_F1 Score  test_F2 Score  \n",
       "model                                                                \n",
       "WGB_Unweighted     0.185677  0.927296       0.274239       0.213208  \n",
       "XBG_Weighted       0.480742  0.904182       0.400806       0.445189  "
      ]
     },
     "execution_count": 221,
     "metadata": {},
     "output_type": "execute_result"
    }
   ],
   "source": [
    "spotCheckCV({\n",
    "    'WGB_Unweighted':XGBClassifier(tree_method='approx', enable_categorical=True, scale_pos_weight=1),\n",
    "    'XBG_Weighted':XGBClassifier(tree_method='approx', enable_categorical=True, scale_pos_weight=round(y.shape[0]/y.sum())) # Weight=56\n",
    "}, X, y)"
   ]
  },
  {
   "cell_type": "code",
   "execution_count": 227,
   "metadata": {},
   "outputs": [],
   "source": [
    "X, y = sci.omit_redundant().omit_ae().impute_blood().mandate_news().raw_news().augment_shmi().encode_ccs_onehot().xy(outcome='CriticalEvent')\n",
    "X = X.drop(['ReadmissionBand', 'AgeBand', 'AandEPresentingComplaint'], axis=1).apply(lambda x:x.replace({True:1.0, False:0.0}))\n",
    "X[X.select_dtypes(include=object).columns] = X.select_dtypes(include=object).astype('category')"
   ]
  },
  {
   "cell_type": "code",
   "execution_count": 228,
   "metadata": {},
   "outputs": [],
   "source": [
    "spotCheckCV({\n",
    "    'WGB_Unweighted':XGBClassifier(tree_method='approx', enable_categorical=True, scale_pos_weight=1),\n",
    "    'XBG_Weighted':XGBClassifier(tree_method='approx', enable_categorical=True, scale_pos_weight=round(y.shape[0]/y.sum())) # Weight=56\n",
    "}, X, y)"
   ]
  }
 ],
 "metadata": {
  "kernelspec": {
   "display_name": "Python 3.9.12 ('py39')",
   "language": "python",
   "name": "python3"
  },
  "language_info": {
   "codemirror_mode": {
    "name": "ipython",
    "version": 3
   },
   "file_extension": ".py",
   "mimetype": "text/x-python",
   "name": "python",
   "nbconvert_exporter": "python",
   "pygments_lexer": "ipython3",
   "version": "3.9.12"
  },
  "orig_nbformat": 4,
  "vscode": {
   "interpreter": {
    "hash": "3e35166262197b1ea9223463adaf11f6b58d81a82b7650a41ad4f3574b9c5682"
   }
  }
 },
 "nbformat": 4,
 "nbformat_minor": 2
}
